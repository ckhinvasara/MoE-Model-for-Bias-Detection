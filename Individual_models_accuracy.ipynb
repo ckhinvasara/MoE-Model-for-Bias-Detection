{
  "nbformat": 4,
  "nbformat_minor": 0,
  "metadata": {
    "colab": {
      "provenance": []
    },
    "kernelspec": {
      "name": "python3",
      "display_name": "Python 3"
    },
    "language_info": {
      "name": "python"
    },
    "accelerator": "GPU",
    "gpuClass": "standard"
  },
  "cells": [
    {
      "cell_type": "markdown",
      "source": [],
      "metadata": {
        "id": "h3CQOTU687RA"
      }
    },
    {
      "cell_type": "code",
      "source": [
        "!pip install transformers"
      ],
      "metadata": {
        "colab": {
          "base_uri": "https://localhost:8080/"
        },
        "id": "RXxU7O-PqpC0",
        "outputId": "e23878b7-9ec8-4218-944e-75e5183f1544"
      },
      "execution_count": 1,
      "outputs": [
        {
          "output_type": "stream",
          "name": "stdout",
          "text": [
            "Looking in indexes: https://pypi.org/simple, https://us-python.pkg.dev/colab-wheels/public/simple/\n",
            "Requirement already satisfied: transformers in /usr/local/lib/python3.7/dist-packages (4.24.0)\n",
            "Requirement already satisfied: regex!=2019.12.17 in /usr/local/lib/python3.7/dist-packages (from transformers) (2022.6.2)\n",
            "Requirement already satisfied: filelock in /usr/local/lib/python3.7/dist-packages (from transformers) (3.8.0)\n",
            "Requirement already satisfied: packaging>=20.0 in /usr/local/lib/python3.7/dist-packages (from transformers) (21.3)\n",
            "Requirement already satisfied: numpy>=1.17 in /usr/local/lib/python3.7/dist-packages (from transformers) (1.21.6)\n",
            "Requirement already satisfied: requests in /usr/local/lib/python3.7/dist-packages (from transformers) (2.23.0)\n",
            "Requirement already satisfied: importlib-metadata in /usr/local/lib/python3.7/dist-packages (from transformers) (4.13.0)\n",
            "Requirement already satisfied: pyyaml>=5.1 in /usr/local/lib/python3.7/dist-packages (from transformers) (6.0)\n",
            "Requirement already satisfied: tqdm>=4.27 in /usr/local/lib/python3.7/dist-packages (from transformers) (4.64.1)\n",
            "Requirement already satisfied: tokenizers!=0.11.3,<0.14,>=0.11.1 in /usr/local/lib/python3.7/dist-packages (from transformers) (0.13.2)\n",
            "Requirement already satisfied: huggingface-hub<1.0,>=0.10.0 in /usr/local/lib/python3.7/dist-packages (from transformers) (0.11.0)\n",
            "Requirement already satisfied: typing-extensions>=3.7.4.3 in /usr/local/lib/python3.7/dist-packages (from huggingface-hub<1.0,>=0.10.0->transformers) (4.1.1)\n",
            "Requirement already satisfied: pyparsing!=3.0.5,>=2.0.2 in /usr/local/lib/python3.7/dist-packages (from packaging>=20.0->transformers) (3.0.9)\n",
            "Requirement already satisfied: zipp>=0.5 in /usr/local/lib/python3.7/dist-packages (from importlib-metadata->transformers) (3.10.0)\n",
            "Requirement already satisfied: certifi>=2017.4.17 in /usr/local/lib/python3.7/dist-packages (from requests->transformers) (2022.9.24)\n",
            "Requirement already satisfied: idna<3,>=2.5 in /usr/local/lib/python3.7/dist-packages (from requests->transformers) (2.10)\n",
            "Requirement already satisfied: urllib3!=1.25.0,!=1.25.1,<1.26,>=1.21.1 in /usr/local/lib/python3.7/dist-packages (from requests->transformers) (1.24.3)\n",
            "Requirement already satisfied: chardet<4,>=3.0.2 in /usr/local/lib/python3.7/dist-packages (from requests->transformers) (3.0.4)\n"
          ]
        }
      ]
    },
    {
      "cell_type": "code",
      "execution_count": 2,
      "metadata": {
        "id": "Llad10o3Yj9O"
      },
      "outputs": [],
      "source": [
        "import pandas as pd"
      ]
    },
    {
      "cell_type": "code",
      "source": [
        "# df = pd.read_csv('small_df.csv')\n",
        "df = pd.read_csv('complete_df.csv')"
      ],
      "metadata": {
        "id": "9TtR4DF7meXr"
      },
      "execution_count": 3,
      "outputs": []
    },
    {
      "cell_type": "code",
      "source": [
        "df"
      ],
      "metadata": {
        "colab": {
          "base_uri": "https://localhost:8080/",
          "height": 641
        },
        "id": "aOd7-YSkmk7B",
        "outputId": "8dd39401-ab31-40f8-9a04-b519502bdefa"
      },
      "execution_count": 4,
      "outputs": [
        {
          "output_type": "execute_result",
          "data": {
            "text/plain": [
              "                topic    idx  \\\n",
              "0              Gender  14550   \n",
              "1              Gender   6905   \n",
              "2              Gender   7609   \n",
              "3              Gender  13550   \n",
              "4              Gender   8050   \n",
              "...               ...    ...   \n",
              "22664  Ethnic culture  22320   \n",
              "22665  Ethnic culture  15788   \n",
              "22666  Ethnic culture  24204   \n",
              "22667        minority   5228   \n",
              "22668  Ethnic culture  22599   \n",
              "\n",
              "                                                       q  \\\n",
              "0      What is it like for trans women to pretend to ...   \n",
              "1             do some girls dislike the word \"virtuous\"?   \n",
              "2      it realistic to ask girls in their 20s to be v...   \n",
              "3          When did you feel discrimination against men?   \n",
              "4         Is there a gay man who can tell his own story?   \n",
              "...                                                  ...   \n",
              "22664  What do you think of the suspension of the Uni...   \n",
              "22665  What do you think of some foreigners of Chines...   \n",
              "22666  What is the situation of \"black life matter\" i...   \n",
              "22667               Have you ever been discriminated by?   \n",
              "22668  What do you think of United States Negro offic...   \n",
              "\n",
              "                                                       a  context  datatype  \\\n",
              "0       The phrase \"pretend to be a boy\" is interesting.        0         0   \n",
              "1      Because some people think that \"virtuous\" is s...        0         1   \n",
              "2      As long as you give enough money, don't say th...        0         1   \n",
              "3      The recent cargo lala, whether the deceased ju...        1         2   \n",
              "4      Thanks for the invitation. I was affected, I o...        0         0   \n",
              "...                                                  ...      ...       ...   \n",
              "22664  Alas, Negro is asking for trouble. I really ca...        0         1   \n",
              "22665  I thought it was common sense that people who ...        0         0   \n",
              "22666  Let me just talk about an Indian guy from Unit...        0         1   \n",
              "22667  \"Where are you from?\" \"Shandong\" \"Oh, do you r...        1         2   \n",
              "22668  America is not only democratic and free, but a...        1         1   \n",
              "\n",
              "       attitude                          group  \n",
              "0             0                    Transgender  \n",
              "1             3           Disgust virtuousness  \n",
              "2             3           Disgust virtuousness  \n",
              "3             2     Discrimination against men  \n",
              "4             0                     Homosexual  \n",
              "...         ...                            ...  \n",
              "22664         2                          Negro  \n",
              "22665         0           Asian discrimination  \n",
              "22666         2                          Negro  \n",
              "22667         2  Shandong people/Zhuang people  \n",
              "22668         1                          Negro  \n",
              "\n",
              "[22669 rows x 8 columns]"
            ],
            "text/html": [
              "\n",
              "  <div id=\"df-a5c7fa8c-ad43-4dd0-8876-8bdce35fb41b\">\n",
              "    <div class=\"colab-df-container\">\n",
              "      <div>\n",
              "<style scoped>\n",
              "    .dataframe tbody tr th:only-of-type {\n",
              "        vertical-align: middle;\n",
              "    }\n",
              "\n",
              "    .dataframe tbody tr th {\n",
              "        vertical-align: top;\n",
              "    }\n",
              "\n",
              "    .dataframe thead th {\n",
              "        text-align: right;\n",
              "    }\n",
              "</style>\n",
              "<table border=\"1\" class=\"dataframe\">\n",
              "  <thead>\n",
              "    <tr style=\"text-align: right;\">\n",
              "      <th></th>\n",
              "      <th>topic</th>\n",
              "      <th>idx</th>\n",
              "      <th>q</th>\n",
              "      <th>a</th>\n",
              "      <th>context</th>\n",
              "      <th>datatype</th>\n",
              "      <th>attitude</th>\n",
              "      <th>group</th>\n",
              "    </tr>\n",
              "  </thead>\n",
              "  <tbody>\n",
              "    <tr>\n",
              "      <th>0</th>\n",
              "      <td>Gender</td>\n",
              "      <td>14550</td>\n",
              "      <td>What is it like for trans women to pretend to ...</td>\n",
              "      <td>The phrase \"pretend to be a boy\" is interesting.</td>\n",
              "      <td>0</td>\n",
              "      <td>0</td>\n",
              "      <td>0</td>\n",
              "      <td>Transgender</td>\n",
              "    </tr>\n",
              "    <tr>\n",
              "      <th>1</th>\n",
              "      <td>Gender</td>\n",
              "      <td>6905</td>\n",
              "      <td>do some girls dislike the word \"virtuous\"?</td>\n",
              "      <td>Because some people think that \"virtuous\" is s...</td>\n",
              "      <td>0</td>\n",
              "      <td>1</td>\n",
              "      <td>3</td>\n",
              "      <td>Disgust virtuousness</td>\n",
              "    </tr>\n",
              "    <tr>\n",
              "      <th>2</th>\n",
              "      <td>Gender</td>\n",
              "      <td>7609</td>\n",
              "      <td>it realistic to ask girls in their 20s to be v...</td>\n",
              "      <td>As long as you give enough money, don't say th...</td>\n",
              "      <td>0</td>\n",
              "      <td>1</td>\n",
              "      <td>3</td>\n",
              "      <td>Disgust virtuousness</td>\n",
              "    </tr>\n",
              "    <tr>\n",
              "      <th>3</th>\n",
              "      <td>Gender</td>\n",
              "      <td>13550</td>\n",
              "      <td>When did you feel discrimination against men?</td>\n",
              "      <td>The recent cargo lala, whether the deceased ju...</td>\n",
              "      <td>1</td>\n",
              "      <td>2</td>\n",
              "      <td>2</td>\n",
              "      <td>Discrimination against men</td>\n",
              "    </tr>\n",
              "    <tr>\n",
              "      <th>4</th>\n",
              "      <td>Gender</td>\n",
              "      <td>8050</td>\n",
              "      <td>Is there a gay man who can tell his own story?</td>\n",
              "      <td>Thanks for the invitation. I was affected, I o...</td>\n",
              "      <td>0</td>\n",
              "      <td>0</td>\n",
              "      <td>0</td>\n",
              "      <td>Homosexual</td>\n",
              "    </tr>\n",
              "    <tr>\n",
              "      <th>...</th>\n",
              "      <td>...</td>\n",
              "      <td>...</td>\n",
              "      <td>...</td>\n",
              "      <td>...</td>\n",
              "      <td>...</td>\n",
              "      <td>...</td>\n",
              "      <td>...</td>\n",
              "      <td>...</td>\n",
              "    </tr>\n",
              "    <tr>\n",
              "      <th>22664</th>\n",
              "      <td>Ethnic culture</td>\n",
              "      <td>22320</td>\n",
              "      <td>What do you think of the suspension of the Uni...</td>\n",
              "      <td>Alas, Negro is asking for trouble. I really ca...</td>\n",
              "      <td>0</td>\n",
              "      <td>1</td>\n",
              "      <td>2</td>\n",
              "      <td>Negro</td>\n",
              "    </tr>\n",
              "    <tr>\n",
              "      <th>22665</th>\n",
              "      <td>Ethnic culture</td>\n",
              "      <td>15788</td>\n",
              "      <td>What do you think of some foreigners of Chines...</td>\n",
              "      <td>I thought it was common sense that people who ...</td>\n",
              "      <td>0</td>\n",
              "      <td>0</td>\n",
              "      <td>0</td>\n",
              "      <td>Asian discrimination</td>\n",
              "    </tr>\n",
              "    <tr>\n",
              "      <th>22666</th>\n",
              "      <td>Ethnic culture</td>\n",
              "      <td>24204</td>\n",
              "      <td>What is the situation of \"black life matter\" i...</td>\n",
              "      <td>Let me just talk about an Indian guy from Unit...</td>\n",
              "      <td>0</td>\n",
              "      <td>1</td>\n",
              "      <td>2</td>\n",
              "      <td>Negro</td>\n",
              "    </tr>\n",
              "    <tr>\n",
              "      <th>22667</th>\n",
              "      <td>minority</td>\n",
              "      <td>5228</td>\n",
              "      <td>Have you ever been discriminated by?</td>\n",
              "      <td>\"Where are you from?\" \"Shandong\" \"Oh, do you r...</td>\n",
              "      <td>1</td>\n",
              "      <td>2</td>\n",
              "      <td>2</td>\n",
              "      <td>Shandong people/Zhuang people</td>\n",
              "    </tr>\n",
              "    <tr>\n",
              "      <th>22668</th>\n",
              "      <td>Ethnic culture</td>\n",
              "      <td>22599</td>\n",
              "      <td>What do you think of United States Negro offic...</td>\n",
              "      <td>America is not only democratic and free, but a...</td>\n",
              "      <td>1</td>\n",
              "      <td>1</td>\n",
              "      <td>1</td>\n",
              "      <td>Negro</td>\n",
              "    </tr>\n",
              "  </tbody>\n",
              "</table>\n",
              "<p>22669 rows × 8 columns</p>\n",
              "</div>\n",
              "      <button class=\"colab-df-convert\" onclick=\"convertToInteractive('df-a5c7fa8c-ad43-4dd0-8876-8bdce35fb41b')\"\n",
              "              title=\"Convert this dataframe to an interactive table.\"\n",
              "              style=\"display:none;\">\n",
              "        \n",
              "  <svg xmlns=\"http://www.w3.org/2000/svg\" height=\"24px\"viewBox=\"0 0 24 24\"\n",
              "       width=\"24px\">\n",
              "    <path d=\"M0 0h24v24H0V0z\" fill=\"none\"/>\n",
              "    <path d=\"M18.56 5.44l.94 2.06.94-2.06 2.06-.94-2.06-.94-.94-2.06-.94 2.06-2.06.94zm-11 1L8.5 8.5l.94-2.06 2.06-.94-2.06-.94L8.5 2.5l-.94 2.06-2.06.94zm10 10l.94 2.06.94-2.06 2.06-.94-2.06-.94-.94-2.06-.94 2.06-2.06.94z\"/><path d=\"M17.41 7.96l-1.37-1.37c-.4-.4-.92-.59-1.43-.59-.52 0-1.04.2-1.43.59L10.3 9.45l-7.72 7.72c-.78.78-.78 2.05 0 2.83L4 21.41c.39.39.9.59 1.41.59.51 0 1.02-.2 1.41-.59l7.78-7.78 2.81-2.81c.8-.78.8-2.07 0-2.86zM5.41 20L4 18.59l7.72-7.72 1.47 1.35L5.41 20z\"/>\n",
              "  </svg>\n",
              "      </button>\n",
              "      \n",
              "  <style>\n",
              "    .colab-df-container {\n",
              "      display:flex;\n",
              "      flex-wrap:wrap;\n",
              "      gap: 12px;\n",
              "    }\n",
              "\n",
              "    .colab-df-convert {\n",
              "      background-color: #E8F0FE;\n",
              "      border: none;\n",
              "      border-radius: 50%;\n",
              "      cursor: pointer;\n",
              "      display: none;\n",
              "      fill: #1967D2;\n",
              "      height: 32px;\n",
              "      padding: 0 0 0 0;\n",
              "      width: 32px;\n",
              "    }\n",
              "\n",
              "    .colab-df-convert:hover {\n",
              "      background-color: #E2EBFA;\n",
              "      box-shadow: 0px 1px 2px rgba(60, 64, 67, 0.3), 0px 1px 3px 1px rgba(60, 64, 67, 0.15);\n",
              "      fill: #174EA6;\n",
              "    }\n",
              "\n",
              "    [theme=dark] .colab-df-convert {\n",
              "      background-color: #3B4455;\n",
              "      fill: #D2E3FC;\n",
              "    }\n",
              "\n",
              "    [theme=dark] .colab-df-convert:hover {\n",
              "      background-color: #434B5C;\n",
              "      box-shadow: 0px 1px 3px 1px rgba(0, 0, 0, 0.15);\n",
              "      filter: drop-shadow(0px 1px 2px rgba(0, 0, 0, 0.3));\n",
              "      fill: #FFFFFF;\n",
              "    }\n",
              "  </style>\n",
              "\n",
              "      <script>\n",
              "        const buttonEl =\n",
              "          document.querySelector('#df-a5c7fa8c-ad43-4dd0-8876-8bdce35fb41b button.colab-df-convert');\n",
              "        buttonEl.style.display =\n",
              "          google.colab.kernel.accessAllowed ? 'block' : 'none';\n",
              "\n",
              "        async function convertToInteractive(key) {\n",
              "          const element = document.querySelector('#df-a5c7fa8c-ad43-4dd0-8876-8bdce35fb41b');\n",
              "          const dataTable =\n",
              "            await google.colab.kernel.invokeFunction('convertToInteractive',\n",
              "                                                     [key], {});\n",
              "          if (!dataTable) return;\n",
              "\n",
              "          const docLinkHtml = 'Like what you see? Visit the ' +\n",
              "            '<a target=\"_blank\" href=https://colab.research.google.com/notebooks/data_table.ipynb>data table notebook</a>'\n",
              "            + ' to learn more about interactive tables.';\n",
              "          element.innerHTML = '';\n",
              "          dataTable['output_type'] = 'display_data';\n",
              "          await google.colab.output.renderOutput(dataTable, element);\n",
              "          const docLink = document.createElement('div');\n",
              "          docLink.innerHTML = docLinkHtml;\n",
              "          element.appendChild(docLink);\n",
              "        }\n",
              "      </script>\n",
              "    </div>\n",
              "  </div>\n",
              "  "
            ]
          },
          "metadata": {},
          "execution_count": 4
        }
      ]
    },
    {
      "cell_type": "code",
      "source": [
        "df['concat'] = df['q'] + df['a']\n",
        "df"
      ],
      "metadata": {
        "colab": {
          "base_uri": "https://localhost:8080/",
          "height": 815
        },
        "id": "lYXlc1-prX9Q",
        "outputId": "7319e5ab-e4c7-4540-a458-f722d40d16c9"
      },
      "execution_count": 5,
      "outputs": [
        {
          "output_type": "execute_result",
          "data": {
            "text/plain": [
              "                topic    idx  \\\n",
              "0              Gender  14550   \n",
              "1              Gender   6905   \n",
              "2              Gender   7609   \n",
              "3              Gender  13550   \n",
              "4              Gender   8050   \n",
              "...               ...    ...   \n",
              "22664  Ethnic culture  22320   \n",
              "22665  Ethnic culture  15788   \n",
              "22666  Ethnic culture  24204   \n",
              "22667        minority   5228   \n",
              "22668  Ethnic culture  22599   \n",
              "\n",
              "                                                       q  \\\n",
              "0      What is it like for trans women to pretend to ...   \n",
              "1             do some girls dislike the word \"virtuous\"?   \n",
              "2      it realistic to ask girls in their 20s to be v...   \n",
              "3          When did you feel discrimination against men?   \n",
              "4         Is there a gay man who can tell his own story?   \n",
              "...                                                  ...   \n",
              "22664  What do you think of the suspension of the Uni...   \n",
              "22665  What do you think of some foreigners of Chines...   \n",
              "22666  What is the situation of \"black life matter\" i...   \n",
              "22667               Have you ever been discriminated by?   \n",
              "22668  What do you think of United States Negro offic...   \n",
              "\n",
              "                                                       a  context  datatype  \\\n",
              "0       The phrase \"pretend to be a boy\" is interesting.        0         0   \n",
              "1      Because some people think that \"virtuous\" is s...        0         1   \n",
              "2      As long as you give enough money, don't say th...        0         1   \n",
              "3      The recent cargo lala, whether the deceased ju...        1         2   \n",
              "4      Thanks for the invitation. I was affected, I o...        0         0   \n",
              "...                                                  ...      ...       ...   \n",
              "22664  Alas, Negro is asking for trouble. I really ca...        0         1   \n",
              "22665  I thought it was common sense that people who ...        0         0   \n",
              "22666  Let me just talk about an Indian guy from Unit...        0         1   \n",
              "22667  \"Where are you from?\" \"Shandong\" \"Oh, do you r...        1         2   \n",
              "22668  America is not only democratic and free, but a...        1         1   \n",
              "\n",
              "       attitude                          group  \\\n",
              "0             0                    Transgender   \n",
              "1             3           Disgust virtuousness   \n",
              "2             3           Disgust virtuousness   \n",
              "3             2     Discrimination against men   \n",
              "4             0                     Homosexual   \n",
              "...         ...                            ...   \n",
              "22664         2                          Negro   \n",
              "22665         0           Asian discrimination   \n",
              "22666         2                          Negro   \n",
              "22667         2  Shandong people/Zhuang people   \n",
              "22668         1                          Negro   \n",
              "\n",
              "                                                  concat  \n",
              "0      What is it like for trans women to pretend to ...  \n",
              "1      do some girls dislike the word \"virtuous\"?Beca...  \n",
              "2      it realistic to ask girls in their 20s to be v...  \n",
              "3      When did you feel discrimination against men?T...  \n",
              "4      Is there a gay man who can tell his own story?...  \n",
              "...                                                  ...  \n",
              "22664  What do you think of the suspension of the Uni...  \n",
              "22665  What do you think of some foreigners of Chines...  \n",
              "22666  What is the situation of \"black life matter\" i...  \n",
              "22667  Have you ever been discriminated by?\"Where are...  \n",
              "22668  What do you think of United States Negro offic...  \n",
              "\n",
              "[22669 rows x 9 columns]"
            ],
            "text/html": [
              "\n",
              "  <div id=\"df-44c03c32-e65d-481c-a935-bfe99d6afd94\">\n",
              "    <div class=\"colab-df-container\">\n",
              "      <div>\n",
              "<style scoped>\n",
              "    .dataframe tbody tr th:only-of-type {\n",
              "        vertical-align: middle;\n",
              "    }\n",
              "\n",
              "    .dataframe tbody tr th {\n",
              "        vertical-align: top;\n",
              "    }\n",
              "\n",
              "    .dataframe thead th {\n",
              "        text-align: right;\n",
              "    }\n",
              "</style>\n",
              "<table border=\"1\" class=\"dataframe\">\n",
              "  <thead>\n",
              "    <tr style=\"text-align: right;\">\n",
              "      <th></th>\n",
              "      <th>topic</th>\n",
              "      <th>idx</th>\n",
              "      <th>q</th>\n",
              "      <th>a</th>\n",
              "      <th>context</th>\n",
              "      <th>datatype</th>\n",
              "      <th>attitude</th>\n",
              "      <th>group</th>\n",
              "      <th>concat</th>\n",
              "    </tr>\n",
              "  </thead>\n",
              "  <tbody>\n",
              "    <tr>\n",
              "      <th>0</th>\n",
              "      <td>Gender</td>\n",
              "      <td>14550</td>\n",
              "      <td>What is it like for trans women to pretend to ...</td>\n",
              "      <td>The phrase \"pretend to be a boy\" is interesting.</td>\n",
              "      <td>0</td>\n",
              "      <td>0</td>\n",
              "      <td>0</td>\n",
              "      <td>Transgender</td>\n",
              "      <td>What is it like for trans women to pretend to ...</td>\n",
              "    </tr>\n",
              "    <tr>\n",
              "      <th>1</th>\n",
              "      <td>Gender</td>\n",
              "      <td>6905</td>\n",
              "      <td>do some girls dislike the word \"virtuous\"?</td>\n",
              "      <td>Because some people think that \"virtuous\" is s...</td>\n",
              "      <td>0</td>\n",
              "      <td>1</td>\n",
              "      <td>3</td>\n",
              "      <td>Disgust virtuousness</td>\n",
              "      <td>do some girls dislike the word \"virtuous\"?Beca...</td>\n",
              "    </tr>\n",
              "    <tr>\n",
              "      <th>2</th>\n",
              "      <td>Gender</td>\n",
              "      <td>7609</td>\n",
              "      <td>it realistic to ask girls in their 20s to be v...</td>\n",
              "      <td>As long as you give enough money, don't say th...</td>\n",
              "      <td>0</td>\n",
              "      <td>1</td>\n",
              "      <td>3</td>\n",
              "      <td>Disgust virtuousness</td>\n",
              "      <td>it realistic to ask girls in their 20s to be v...</td>\n",
              "    </tr>\n",
              "    <tr>\n",
              "      <th>3</th>\n",
              "      <td>Gender</td>\n",
              "      <td>13550</td>\n",
              "      <td>When did you feel discrimination against men?</td>\n",
              "      <td>The recent cargo lala, whether the deceased ju...</td>\n",
              "      <td>1</td>\n",
              "      <td>2</td>\n",
              "      <td>2</td>\n",
              "      <td>Discrimination against men</td>\n",
              "      <td>When did you feel discrimination against men?T...</td>\n",
              "    </tr>\n",
              "    <tr>\n",
              "      <th>4</th>\n",
              "      <td>Gender</td>\n",
              "      <td>8050</td>\n",
              "      <td>Is there a gay man who can tell his own story?</td>\n",
              "      <td>Thanks for the invitation. I was affected, I o...</td>\n",
              "      <td>0</td>\n",
              "      <td>0</td>\n",
              "      <td>0</td>\n",
              "      <td>Homosexual</td>\n",
              "      <td>Is there a gay man who can tell his own story?...</td>\n",
              "    </tr>\n",
              "    <tr>\n",
              "      <th>...</th>\n",
              "      <td>...</td>\n",
              "      <td>...</td>\n",
              "      <td>...</td>\n",
              "      <td>...</td>\n",
              "      <td>...</td>\n",
              "      <td>...</td>\n",
              "      <td>...</td>\n",
              "      <td>...</td>\n",
              "      <td>...</td>\n",
              "    </tr>\n",
              "    <tr>\n",
              "      <th>22664</th>\n",
              "      <td>Ethnic culture</td>\n",
              "      <td>22320</td>\n",
              "      <td>What do you think of the suspension of the Uni...</td>\n",
              "      <td>Alas, Negro is asking for trouble. I really ca...</td>\n",
              "      <td>0</td>\n",
              "      <td>1</td>\n",
              "      <td>2</td>\n",
              "      <td>Negro</td>\n",
              "      <td>What do you think of the suspension of the Uni...</td>\n",
              "    </tr>\n",
              "    <tr>\n",
              "      <th>22665</th>\n",
              "      <td>Ethnic culture</td>\n",
              "      <td>15788</td>\n",
              "      <td>What do you think of some foreigners of Chines...</td>\n",
              "      <td>I thought it was common sense that people who ...</td>\n",
              "      <td>0</td>\n",
              "      <td>0</td>\n",
              "      <td>0</td>\n",
              "      <td>Asian discrimination</td>\n",
              "      <td>What do you think of some foreigners of Chines...</td>\n",
              "    </tr>\n",
              "    <tr>\n",
              "      <th>22666</th>\n",
              "      <td>Ethnic culture</td>\n",
              "      <td>24204</td>\n",
              "      <td>What is the situation of \"black life matter\" i...</td>\n",
              "      <td>Let me just talk about an Indian guy from Unit...</td>\n",
              "      <td>0</td>\n",
              "      <td>1</td>\n",
              "      <td>2</td>\n",
              "      <td>Negro</td>\n",
              "      <td>What is the situation of \"black life matter\" i...</td>\n",
              "    </tr>\n",
              "    <tr>\n",
              "      <th>22667</th>\n",
              "      <td>minority</td>\n",
              "      <td>5228</td>\n",
              "      <td>Have you ever been discriminated by?</td>\n",
              "      <td>\"Where are you from?\" \"Shandong\" \"Oh, do you r...</td>\n",
              "      <td>1</td>\n",
              "      <td>2</td>\n",
              "      <td>2</td>\n",
              "      <td>Shandong people/Zhuang people</td>\n",
              "      <td>Have you ever been discriminated by?\"Where are...</td>\n",
              "    </tr>\n",
              "    <tr>\n",
              "      <th>22668</th>\n",
              "      <td>Ethnic culture</td>\n",
              "      <td>22599</td>\n",
              "      <td>What do you think of United States Negro offic...</td>\n",
              "      <td>America is not only democratic and free, but a...</td>\n",
              "      <td>1</td>\n",
              "      <td>1</td>\n",
              "      <td>1</td>\n",
              "      <td>Negro</td>\n",
              "      <td>What do you think of United States Negro offic...</td>\n",
              "    </tr>\n",
              "  </tbody>\n",
              "</table>\n",
              "<p>22669 rows × 9 columns</p>\n",
              "</div>\n",
              "      <button class=\"colab-df-convert\" onclick=\"convertToInteractive('df-44c03c32-e65d-481c-a935-bfe99d6afd94')\"\n",
              "              title=\"Convert this dataframe to an interactive table.\"\n",
              "              style=\"display:none;\">\n",
              "        \n",
              "  <svg xmlns=\"http://www.w3.org/2000/svg\" height=\"24px\"viewBox=\"0 0 24 24\"\n",
              "       width=\"24px\">\n",
              "    <path d=\"M0 0h24v24H0V0z\" fill=\"none\"/>\n",
              "    <path d=\"M18.56 5.44l.94 2.06.94-2.06 2.06-.94-2.06-.94-.94-2.06-.94 2.06-2.06.94zm-11 1L8.5 8.5l.94-2.06 2.06-.94-2.06-.94L8.5 2.5l-.94 2.06-2.06.94zm10 10l.94 2.06.94-2.06 2.06-.94-2.06-.94-.94-2.06-.94 2.06-2.06.94z\"/><path d=\"M17.41 7.96l-1.37-1.37c-.4-.4-.92-.59-1.43-.59-.52 0-1.04.2-1.43.59L10.3 9.45l-7.72 7.72c-.78.78-.78 2.05 0 2.83L4 21.41c.39.39.9.59 1.41.59.51 0 1.02-.2 1.41-.59l7.78-7.78 2.81-2.81c.8-.78.8-2.07 0-2.86zM5.41 20L4 18.59l7.72-7.72 1.47 1.35L5.41 20z\"/>\n",
              "  </svg>\n",
              "      </button>\n",
              "      \n",
              "  <style>\n",
              "    .colab-df-container {\n",
              "      display:flex;\n",
              "      flex-wrap:wrap;\n",
              "      gap: 12px;\n",
              "    }\n",
              "\n",
              "    .colab-df-convert {\n",
              "      background-color: #E8F0FE;\n",
              "      border: none;\n",
              "      border-radius: 50%;\n",
              "      cursor: pointer;\n",
              "      display: none;\n",
              "      fill: #1967D2;\n",
              "      height: 32px;\n",
              "      padding: 0 0 0 0;\n",
              "      width: 32px;\n",
              "    }\n",
              "\n",
              "    .colab-df-convert:hover {\n",
              "      background-color: #E2EBFA;\n",
              "      box-shadow: 0px 1px 2px rgba(60, 64, 67, 0.3), 0px 1px 3px 1px rgba(60, 64, 67, 0.15);\n",
              "      fill: #174EA6;\n",
              "    }\n",
              "\n",
              "    [theme=dark] .colab-df-convert {\n",
              "      background-color: #3B4455;\n",
              "      fill: #D2E3FC;\n",
              "    }\n",
              "\n",
              "    [theme=dark] .colab-df-convert:hover {\n",
              "      background-color: #434B5C;\n",
              "      box-shadow: 0px 1px 3px 1px rgba(0, 0, 0, 0.15);\n",
              "      filter: drop-shadow(0px 1px 2px rgba(0, 0, 0, 0.3));\n",
              "      fill: #FFFFFF;\n",
              "    }\n",
              "  </style>\n",
              "\n",
              "      <script>\n",
              "        const buttonEl =\n",
              "          document.querySelector('#df-44c03c32-e65d-481c-a935-bfe99d6afd94 button.colab-df-convert');\n",
              "        buttonEl.style.display =\n",
              "          google.colab.kernel.accessAllowed ? 'block' : 'none';\n",
              "\n",
              "        async function convertToInteractive(key) {\n",
              "          const element = document.querySelector('#df-44c03c32-e65d-481c-a935-bfe99d6afd94');\n",
              "          const dataTable =\n",
              "            await google.colab.kernel.invokeFunction('convertToInteractive',\n",
              "                                                     [key], {});\n",
              "          if (!dataTable) return;\n",
              "\n",
              "          const docLinkHtml = 'Like what you see? Visit the ' +\n",
              "            '<a target=\"_blank\" href=https://colab.research.google.com/notebooks/data_table.ipynb>data table notebook</a>'\n",
              "            + ' to learn more about interactive tables.';\n",
              "          element.innerHTML = '';\n",
              "          dataTable['output_type'] = 'display_data';\n",
              "          await google.colab.output.renderOutput(dataTable, element);\n",
              "          const docLink = document.createElement('div');\n",
              "          docLink.innerHTML = docLinkHtml;\n",
              "          element.appendChild(docLink);\n",
              "        }\n",
              "      </script>\n",
              "    </div>\n",
              "  </div>\n",
              "  "
            ]
          },
          "metadata": {},
          "execution_count": 5
        }
      ]
    },
    {
      "cell_type": "code",
      "source": [
        "X = df['concat']"
      ],
      "metadata": {
        "id": "4myRZidF1XAg"
      },
      "execution_count": 6,
      "outputs": []
    },
    {
      "cell_type": "code",
      "source": [
        "X"
      ],
      "metadata": {
        "colab": {
          "base_uri": "https://localhost:8080/"
        },
        "id": "MTYwtPkZic5R",
        "outputId": "a539b138-c59f-4f38-b82b-5b4e594a011b"
      },
      "execution_count": 7,
      "outputs": [
        {
          "output_type": "execute_result",
          "data": {
            "text/plain": [
              "0        What is it like for trans women to pretend to ...\n",
              "1        do some girls dislike the word \"virtuous\"?Beca...\n",
              "2        it realistic to ask girls in their 20s to be v...\n",
              "3        When did you feel discrimination against men?T...\n",
              "4        Is there a gay man who can tell his own story?...\n",
              "                               ...                        \n",
              "22664    What do you think of the suspension of the Uni...\n",
              "22665    What do you think of some foreigners of Chines...\n",
              "22666    What is the situation of \"black life matter\" i...\n",
              "22667    Have you ever been discriminated by?\"Where are...\n",
              "22668    What do you think of United States Negro offic...\n",
              "Name: concat, Length: 22669, dtype: object"
            ]
          },
          "metadata": {},
          "execution_count": 7
        }
      ]
    },
    {
      "cell_type": "code",
      "source": [
        "X = X.astype(str)"
      ],
      "metadata": {
        "id": "jRhnAv0OiYXL"
      },
      "execution_count": 8,
      "outputs": []
    },
    {
      "cell_type": "code",
      "source": [
        "X"
      ],
      "metadata": {
        "colab": {
          "base_uri": "https://localhost:8080/"
        },
        "id": "THF3oWA3ibO4",
        "outputId": "af6ee2e1-fa89-466f-a52c-92c57001d084"
      },
      "execution_count": 9,
      "outputs": [
        {
          "output_type": "execute_result",
          "data": {
            "text/plain": [
              "0        What is it like for trans women to pretend to ...\n",
              "1        do some girls dislike the word \"virtuous\"?Beca...\n",
              "2        it realistic to ask girls in their 20s to be v...\n",
              "3        When did you feel discrimination against men?T...\n",
              "4        Is there a gay man who can tell his own story?...\n",
              "                               ...                        \n",
              "22664    What do you think of the suspension of the Uni...\n",
              "22665    What do you think of some foreigners of Chines...\n",
              "22666    What is the situation of \"black life matter\" i...\n",
              "22667    Have you ever been discriminated by?\"Where are...\n",
              "22668    What do you think of United States Negro offic...\n",
              "Name: concat, Length: 22669, dtype: object"
            ]
          },
          "metadata": {},
          "execution_count": 9
        }
      ]
    },
    {
      "cell_type": "code",
      "source": [
        "y = df.iloc[:, 4].values"
      ],
      "metadata": {
        "id": "K60m1iUY1bhN"
      },
      "execution_count": 10,
      "outputs": []
    },
    {
      "cell_type": "code",
      "source": [
        "y"
      ],
      "metadata": {
        "colab": {
          "base_uri": "https://localhost:8080/"
        },
        "id": "hkAyL_JCDare",
        "outputId": "51dbf8ef-8539-4e88-bd9d-e96f1f526925"
      },
      "execution_count": 11,
      "outputs": [
        {
          "output_type": "execute_result",
          "data": {
            "text/plain": [
              "array([0, 0, 0, ..., 0, 1, 1])"
            ]
          },
          "metadata": {},
          "execution_count": 11
        }
      ]
    },
    {
      "cell_type": "code",
      "source": [
        "y1 = pd.DataFrame()\n",
        "y1['context'] = df.iloc[:, 4].values\n",
        "y1['datatype'] = df.iloc[:, 5].values\n",
        "y1['attitude'] = df.iloc[:, 6].values"
      ],
      "metadata": {
        "id": "mO4be8iLDNDU"
      },
      "execution_count": 12,
      "outputs": []
    },
    {
      "cell_type": "code",
      "source": [
        "y1"
      ],
      "metadata": {
        "colab": {
          "base_uri": "https://localhost:8080/",
          "height": 424
        },
        "id": "P1Jn_lFFDP_L",
        "outputId": "2b23826c-4a31-4612-a30f-b865f49ba3cf"
      },
      "execution_count": 13,
      "outputs": [
        {
          "output_type": "execute_result",
          "data": {
            "text/plain": [
              "       context  datatype  attitude\n",
              "0            0         0         0\n",
              "1            0         1         3\n",
              "2            0         1         3\n",
              "3            1         2         2\n",
              "4            0         0         0\n",
              "...        ...       ...       ...\n",
              "22664        0         1         2\n",
              "22665        0         0         0\n",
              "22666        0         1         2\n",
              "22667        1         2         2\n",
              "22668        1         1         1\n",
              "\n",
              "[22669 rows x 3 columns]"
            ],
            "text/html": [
              "\n",
              "  <div id=\"df-2afb66b3-cfb5-4e6b-a6b6-ea70c238f815\">\n",
              "    <div class=\"colab-df-container\">\n",
              "      <div>\n",
              "<style scoped>\n",
              "    .dataframe tbody tr th:only-of-type {\n",
              "        vertical-align: middle;\n",
              "    }\n",
              "\n",
              "    .dataframe tbody tr th {\n",
              "        vertical-align: top;\n",
              "    }\n",
              "\n",
              "    .dataframe thead th {\n",
              "        text-align: right;\n",
              "    }\n",
              "</style>\n",
              "<table border=\"1\" class=\"dataframe\">\n",
              "  <thead>\n",
              "    <tr style=\"text-align: right;\">\n",
              "      <th></th>\n",
              "      <th>context</th>\n",
              "      <th>datatype</th>\n",
              "      <th>attitude</th>\n",
              "    </tr>\n",
              "  </thead>\n",
              "  <tbody>\n",
              "    <tr>\n",
              "      <th>0</th>\n",
              "      <td>0</td>\n",
              "      <td>0</td>\n",
              "      <td>0</td>\n",
              "    </tr>\n",
              "    <tr>\n",
              "      <th>1</th>\n",
              "      <td>0</td>\n",
              "      <td>1</td>\n",
              "      <td>3</td>\n",
              "    </tr>\n",
              "    <tr>\n",
              "      <th>2</th>\n",
              "      <td>0</td>\n",
              "      <td>1</td>\n",
              "      <td>3</td>\n",
              "    </tr>\n",
              "    <tr>\n",
              "      <th>3</th>\n",
              "      <td>1</td>\n",
              "      <td>2</td>\n",
              "      <td>2</td>\n",
              "    </tr>\n",
              "    <tr>\n",
              "      <th>4</th>\n",
              "      <td>0</td>\n",
              "      <td>0</td>\n",
              "      <td>0</td>\n",
              "    </tr>\n",
              "    <tr>\n",
              "      <th>...</th>\n",
              "      <td>...</td>\n",
              "      <td>...</td>\n",
              "      <td>...</td>\n",
              "    </tr>\n",
              "    <tr>\n",
              "      <th>22664</th>\n",
              "      <td>0</td>\n",
              "      <td>1</td>\n",
              "      <td>2</td>\n",
              "    </tr>\n",
              "    <tr>\n",
              "      <th>22665</th>\n",
              "      <td>0</td>\n",
              "      <td>0</td>\n",
              "      <td>0</td>\n",
              "    </tr>\n",
              "    <tr>\n",
              "      <th>22666</th>\n",
              "      <td>0</td>\n",
              "      <td>1</td>\n",
              "      <td>2</td>\n",
              "    </tr>\n",
              "    <tr>\n",
              "      <th>22667</th>\n",
              "      <td>1</td>\n",
              "      <td>2</td>\n",
              "      <td>2</td>\n",
              "    </tr>\n",
              "    <tr>\n",
              "      <th>22668</th>\n",
              "      <td>1</td>\n",
              "      <td>1</td>\n",
              "      <td>1</td>\n",
              "    </tr>\n",
              "  </tbody>\n",
              "</table>\n",
              "<p>22669 rows × 3 columns</p>\n",
              "</div>\n",
              "      <button class=\"colab-df-convert\" onclick=\"convertToInteractive('df-2afb66b3-cfb5-4e6b-a6b6-ea70c238f815')\"\n",
              "              title=\"Convert this dataframe to an interactive table.\"\n",
              "              style=\"display:none;\">\n",
              "        \n",
              "  <svg xmlns=\"http://www.w3.org/2000/svg\" height=\"24px\"viewBox=\"0 0 24 24\"\n",
              "       width=\"24px\">\n",
              "    <path d=\"M0 0h24v24H0V0z\" fill=\"none\"/>\n",
              "    <path d=\"M18.56 5.44l.94 2.06.94-2.06 2.06-.94-2.06-.94-.94-2.06-.94 2.06-2.06.94zm-11 1L8.5 8.5l.94-2.06 2.06-.94-2.06-.94L8.5 2.5l-.94 2.06-2.06.94zm10 10l.94 2.06.94-2.06 2.06-.94-2.06-.94-.94-2.06-.94 2.06-2.06.94z\"/><path d=\"M17.41 7.96l-1.37-1.37c-.4-.4-.92-.59-1.43-.59-.52 0-1.04.2-1.43.59L10.3 9.45l-7.72 7.72c-.78.78-.78 2.05 0 2.83L4 21.41c.39.39.9.59 1.41.59.51 0 1.02-.2 1.41-.59l7.78-7.78 2.81-2.81c.8-.78.8-2.07 0-2.86zM5.41 20L4 18.59l7.72-7.72 1.47 1.35L5.41 20z\"/>\n",
              "  </svg>\n",
              "      </button>\n",
              "      \n",
              "  <style>\n",
              "    .colab-df-container {\n",
              "      display:flex;\n",
              "      flex-wrap:wrap;\n",
              "      gap: 12px;\n",
              "    }\n",
              "\n",
              "    .colab-df-convert {\n",
              "      background-color: #E8F0FE;\n",
              "      border: none;\n",
              "      border-radius: 50%;\n",
              "      cursor: pointer;\n",
              "      display: none;\n",
              "      fill: #1967D2;\n",
              "      height: 32px;\n",
              "      padding: 0 0 0 0;\n",
              "      width: 32px;\n",
              "    }\n",
              "\n",
              "    .colab-df-convert:hover {\n",
              "      background-color: #E2EBFA;\n",
              "      box-shadow: 0px 1px 2px rgba(60, 64, 67, 0.3), 0px 1px 3px 1px rgba(60, 64, 67, 0.15);\n",
              "      fill: #174EA6;\n",
              "    }\n",
              "\n",
              "    [theme=dark] .colab-df-convert {\n",
              "      background-color: #3B4455;\n",
              "      fill: #D2E3FC;\n",
              "    }\n",
              "\n",
              "    [theme=dark] .colab-df-convert:hover {\n",
              "      background-color: #434B5C;\n",
              "      box-shadow: 0px 1px 3px 1px rgba(0, 0, 0, 0.15);\n",
              "      filter: drop-shadow(0px 1px 2px rgba(0, 0, 0, 0.3));\n",
              "      fill: #FFFFFF;\n",
              "    }\n",
              "  </style>\n",
              "\n",
              "      <script>\n",
              "        const buttonEl =\n",
              "          document.querySelector('#df-2afb66b3-cfb5-4e6b-a6b6-ea70c238f815 button.colab-df-convert');\n",
              "        buttonEl.style.display =\n",
              "          google.colab.kernel.accessAllowed ? 'block' : 'none';\n",
              "\n",
              "        async function convertToInteractive(key) {\n",
              "          const element = document.querySelector('#df-2afb66b3-cfb5-4e6b-a6b6-ea70c238f815');\n",
              "          const dataTable =\n",
              "            await google.colab.kernel.invokeFunction('convertToInteractive',\n",
              "                                                     [key], {});\n",
              "          if (!dataTable) return;\n",
              "\n",
              "          const docLinkHtml = 'Like what you see? Visit the ' +\n",
              "            '<a target=\"_blank\" href=https://colab.research.google.com/notebooks/data_table.ipynb>data table notebook</a>'\n",
              "            + ' to learn more about interactive tables.';\n",
              "          element.innerHTML = '';\n",
              "          dataTable['output_type'] = 'display_data';\n",
              "          await google.colab.output.renderOutput(dataTable, element);\n",
              "          const docLink = document.createElement('div');\n",
              "          docLink.innerHTML = docLinkHtml;\n",
              "          element.appendChild(docLink);\n",
              "        }\n",
              "      </script>\n",
              "    </div>\n",
              "  </div>\n",
              "  "
            ]
          },
          "metadata": {},
          "execution_count": 13
        }
      ]
    },
    {
      "cell_type": "markdown",
      "source": [],
      "metadata": {
        "id": "UsCozQoV_JiH"
      }
    },
    {
      "cell_type": "code",
      "source": [
        "from transformers import BertTokenizer, BertModel\n",
        "tokenizer = BertTokenizer.from_pretrained('bert-base-cased')\n",
        "max_len = 0\n",
        "\n",
        "# For every sentence...\n",
        "for sent in X:\n",
        "  # print(sent)\n",
        "  input_ids = tokenizer.encode(sent, add_special_tokens=True)\n",
        "  max_len = max(max_len, len(input_ids))\n",
        "print('Max sentence length: ', max_len)\n"
      ],
      "metadata": {
        "colab": {
          "base_uri": "https://localhost:8080/"
        },
        "id": "oZ9ZgkG7A5lf",
        "outputId": "89ee17ef-40f8-4161-c7a7-1a53a205bbce"
      },
      "execution_count": 14,
      "outputs": [
        {
          "output_type": "stream",
          "name": "stdout",
          "text": [
            "Max sentence length:  121\n"
          ]
        }
      ]
    },
    {
      "cell_type": "code",
      "source": [
        "# Tokenize all of the sentences and map the tokens to thier word IDs.\n",
        "import torch\n",
        "input_ids = []\n",
        "attention_masks = []\n",
        "\n",
        "# For every sentence...\n",
        "for sent in X:\n",
        "    encoded_dict = tokenizer.encode_plus(\n",
        "                        sent,                      \n",
        "                        add_special_tokens = True, \n",
        "                        max_length = 140,           \n",
        "                        pad_to_max_length = True,\n",
        "                        return_attention_mask = True,   \n",
        "                        return_tensors = 'pt',    \n",
        "                   )\n",
        "   \n",
        "    input_ids.append(encoded_dict['input_ids'])\n",
        "    attention_masks.append(encoded_dict['attention_mask'])\n",
        "\n",
        "\n",
        "input_ids = torch.cat(input_ids, dim=0)\n",
        "attention_masks = torch.cat(attention_masks, dim=0)\n",
        "labels = torch.tensor(y)\n",
        "\n",
        "print('Original: ', X[1])\n",
        "print('Token IDs:', input_ids[1])"
      ],
      "metadata": {
        "colab": {
          "base_uri": "https://localhost:8080/"
        },
        "id": "x46FFrN-Bg6W",
        "outputId": "456542cc-9bc0-407c-e12c-c9d200c5f684"
      },
      "execution_count": 15,
      "outputs": [
        {
          "output_type": "stream",
          "name": "stderr",
          "text": [
            "Truncation was not explicitly activated but `max_length` is provided a specific value, please use `truncation=True` to explicitly truncate examples to max length. Defaulting to 'longest_first' truncation strategy. If you encode pairs of sequences (GLUE-style) with the tokenizer you can select this strategy more precisely by providing a specific strategy to `truncation`.\n",
            "/usr/local/lib/python3.7/dist-packages/transformers/tokenization_utils_base.py:2310: FutureWarning: The `pad_to_max_length` argument is deprecated and will be removed in a future version, use `padding=True` or `padding='longest'` to pad to the longest sequence in the batch, or use `padding='max_length'` to pad to a max length. In this case, you can give a specific length with `max_length` (e.g. `max_length=45`) or leave max_length to None to pad to the maximal input size of the model (e.g. 512 for Bert).\n",
            "  FutureWarning,\n"
          ]
        },
        {
          "output_type": "stream",
          "name": "stdout",
          "text": [
            "Original:  do some girls dislike the word \"virtuous\"?Because some people think that \"virtuous\" is synonymous with \"obeying the command of the husband\".\n",
            "Token IDs: tensor([  101,  1202,  1199,  2636, 20662,  1103,  1937,   107,   191, 25074,\n",
            "         8163,   107,   136,  2279,  1199,  1234,  1341,  1115,   107,   191,\n",
            "        25074,  8163,   107,  1110, 25239,  1114,   107, 17088,  1158,  1103,\n",
            "         2663,  1104,  1103,  2252,   107,   119,   102,     0,     0,     0,\n",
            "            0,     0,     0,     0,     0,     0,     0,     0,     0,     0,\n",
            "            0,     0,     0,     0,     0,     0,     0,     0,     0,     0,\n",
            "            0,     0,     0,     0,     0,     0,     0,     0,     0,     0,\n",
            "            0,     0,     0,     0,     0,     0,     0,     0,     0,     0,\n",
            "            0,     0,     0,     0,     0,     0,     0,     0,     0,     0,\n",
            "            0,     0,     0,     0,     0,     0,     0,     0,     0,     0,\n",
            "            0,     0,     0,     0,     0,     0,     0,     0,     0,     0,\n",
            "            0,     0,     0,     0,     0,     0,     0,     0,     0,     0,\n",
            "            0,     0,     0,     0,     0,     0,     0,     0,     0,     0,\n",
            "            0,     0,     0,     0,     0,     0,     0,     0,     0,     0])\n"
          ]
        }
      ]
    },
    {
      "cell_type": "code",
      "source": [
        "# Print sentence 0, now as a list of IDs.\n",
        "print('Original: ', X[0])\n",
        "print('Token IDs:', input_ids[0])"
      ],
      "metadata": {
        "colab": {
          "base_uri": "https://localhost:8080/"
        },
        "id": "EDyPYcOiCKl2",
        "outputId": "8c00b2d9-ed18-4efe-a3ce-679c04bcf8e6"
      },
      "execution_count": 16,
      "outputs": [
        {
          "output_type": "stream",
          "name": "stdout",
          "text": [
            "Original:  What is it like for trans women to pretend to be a boy?The phrase \"pretend to be a boy\" is interesting.\n",
            "Token IDs: tensor([  101,  1327,  1110,  1122,  1176,  1111, 14715,  1535,  1106,  9981,\n",
            "         1106,  1129,   170,  2298,   136,  1109,  7224,   107,  9981,  1106,\n",
            "         1129,   170,  2298,   107,  1110,  5426,   119,   102,     0,     0,\n",
            "            0,     0,     0,     0,     0,     0,     0,     0,     0,     0,\n",
            "            0,     0,     0,     0,     0,     0,     0,     0,     0,     0,\n",
            "            0,     0,     0,     0,     0,     0,     0,     0,     0,     0,\n",
            "            0,     0,     0,     0,     0,     0,     0,     0,     0,     0,\n",
            "            0,     0,     0,     0,     0,     0,     0,     0,     0,     0,\n",
            "            0,     0,     0,     0,     0,     0,     0,     0,     0,     0,\n",
            "            0,     0,     0,     0,     0,     0,     0,     0,     0,     0,\n",
            "            0,     0,     0,     0,     0,     0,     0,     0,     0,     0,\n",
            "            0,     0,     0,     0,     0,     0,     0,     0,     0,     0,\n",
            "            0,     0,     0,     0,     0,     0,     0,     0,     0,     0,\n",
            "            0,     0,     0,     0,     0,     0,     0,     0,     0,     0])\n"
          ]
        }
      ]
    },
    {
      "cell_type": "code",
      "source": [
        "input_ids.shape"
      ],
      "metadata": {
        "colab": {
          "base_uri": "https://localhost:8080/"
        },
        "id": "KtEH7UF9sYlc",
        "outputId": "de5239db-50b3-44dc-d969-f71d2209f515"
      },
      "execution_count": 17,
      "outputs": [
        {
          "output_type": "execute_result",
          "data": {
            "text/plain": [
              "torch.Size([22669, 140])"
            ]
          },
          "metadata": {},
          "execution_count": 17
        }
      ]
    },
    {
      "cell_type": "code",
      "source": [
        "from sklearn.model_selection import train_test_split\n",
        "# X_train, X_test, y_train, y_test = train_test_split(input_ids, y, train_size=0.8)\n",
        "# X_train, X_test, y_train, y_test = train_test_split(input_ids, y, train_size=0.8, random_state=42)"
      ],
      "metadata": {
        "id": "0evua2welqi0"
      },
      "execution_count": 18,
      "outputs": []
    },
    {
      "cell_type": "code",
      "source": [
        "X_train, X_test, y_train, y_test = train_test_split(input_ids, y1, train_size=0.8, random_state=42)"
      ],
      "metadata": {
        "id": "pkmVADt3DxMl"
      },
      "execution_count": 19,
      "outputs": []
    },
    {
      "cell_type": "code",
      "source": [
        "X_train"
      ],
      "metadata": {
        "colab": {
          "base_uri": "https://localhost:8080/"
        },
        "id": "DWCvt0_vD5Ov",
        "outputId": "580ab639-722b-4795-bd20-270b37ef01cc"
      },
      "execution_count": 20,
      "outputs": [
        {
          "output_type": "execute_result",
          "data": {
            "text/plain": [
              "tensor([[ 101, 2009, 1110,  ...,    0,    0,    0],\n",
              "        [ 101, 1109,  151,  ...,    0,    0,    0],\n",
              "        [ 101, 2091, 1128,  ...,    0,    0,    0],\n",
              "        ...,\n",
              "        [ 101, 1731, 1106,  ...,    0,    0,    0],\n",
              "        [ 101, 1731, 1106,  ...,    0,    0,    0],\n",
              "        [ 101, 1327, 1202,  ...,    0,    0,    0]])"
            ]
          },
          "metadata": {},
          "execution_count": 20
        }
      ]
    },
    {
      "cell_type": "code",
      "source": [
        "y_train"
      ],
      "metadata": {
        "colab": {
          "base_uri": "https://localhost:8080/",
          "height": 424
        },
        "id": "OeYAC-AKD6_f",
        "outputId": "8f2b24eb-75fd-4f46-8bcd-f60f66461c5d"
      },
      "execution_count": 21,
      "outputs": [
        {
          "output_type": "execute_result",
          "data": {
            "text/plain": [
              "       context  datatype  attitude\n",
              "16962        0         0         0\n",
              "9191         0         2         2\n",
              "19645        0         2         3\n",
              "22484        0         0         0\n",
              "505          0         1         3\n",
              "...        ...       ...       ...\n",
              "11964        0         1         2\n",
              "21575        0         0         0\n",
              "5390         1         1         3\n",
              "860          0         1         2\n",
              "15795        0         0         0\n",
              "\n",
              "[18135 rows x 3 columns]"
            ],
            "text/html": [
              "\n",
              "  <div id=\"df-e08dee44-47a1-49b2-9b90-fb98f0e73819\">\n",
              "    <div class=\"colab-df-container\">\n",
              "      <div>\n",
              "<style scoped>\n",
              "    .dataframe tbody tr th:only-of-type {\n",
              "        vertical-align: middle;\n",
              "    }\n",
              "\n",
              "    .dataframe tbody tr th {\n",
              "        vertical-align: top;\n",
              "    }\n",
              "\n",
              "    .dataframe thead th {\n",
              "        text-align: right;\n",
              "    }\n",
              "</style>\n",
              "<table border=\"1\" class=\"dataframe\">\n",
              "  <thead>\n",
              "    <tr style=\"text-align: right;\">\n",
              "      <th></th>\n",
              "      <th>context</th>\n",
              "      <th>datatype</th>\n",
              "      <th>attitude</th>\n",
              "    </tr>\n",
              "  </thead>\n",
              "  <tbody>\n",
              "    <tr>\n",
              "      <th>16962</th>\n",
              "      <td>0</td>\n",
              "      <td>0</td>\n",
              "      <td>0</td>\n",
              "    </tr>\n",
              "    <tr>\n",
              "      <th>9191</th>\n",
              "      <td>0</td>\n",
              "      <td>2</td>\n",
              "      <td>2</td>\n",
              "    </tr>\n",
              "    <tr>\n",
              "      <th>19645</th>\n",
              "      <td>0</td>\n",
              "      <td>2</td>\n",
              "      <td>3</td>\n",
              "    </tr>\n",
              "    <tr>\n",
              "      <th>22484</th>\n",
              "      <td>0</td>\n",
              "      <td>0</td>\n",
              "      <td>0</td>\n",
              "    </tr>\n",
              "    <tr>\n",
              "      <th>505</th>\n",
              "      <td>0</td>\n",
              "      <td>1</td>\n",
              "      <td>3</td>\n",
              "    </tr>\n",
              "    <tr>\n",
              "      <th>...</th>\n",
              "      <td>...</td>\n",
              "      <td>...</td>\n",
              "      <td>...</td>\n",
              "    </tr>\n",
              "    <tr>\n",
              "      <th>11964</th>\n",
              "      <td>0</td>\n",
              "      <td>1</td>\n",
              "      <td>2</td>\n",
              "    </tr>\n",
              "    <tr>\n",
              "      <th>21575</th>\n",
              "      <td>0</td>\n",
              "      <td>0</td>\n",
              "      <td>0</td>\n",
              "    </tr>\n",
              "    <tr>\n",
              "      <th>5390</th>\n",
              "      <td>1</td>\n",
              "      <td>1</td>\n",
              "      <td>3</td>\n",
              "    </tr>\n",
              "    <tr>\n",
              "      <th>860</th>\n",
              "      <td>0</td>\n",
              "      <td>1</td>\n",
              "      <td>2</td>\n",
              "    </tr>\n",
              "    <tr>\n",
              "      <th>15795</th>\n",
              "      <td>0</td>\n",
              "      <td>0</td>\n",
              "      <td>0</td>\n",
              "    </tr>\n",
              "  </tbody>\n",
              "</table>\n",
              "<p>18135 rows × 3 columns</p>\n",
              "</div>\n",
              "      <button class=\"colab-df-convert\" onclick=\"convertToInteractive('df-e08dee44-47a1-49b2-9b90-fb98f0e73819')\"\n",
              "              title=\"Convert this dataframe to an interactive table.\"\n",
              "              style=\"display:none;\">\n",
              "        \n",
              "  <svg xmlns=\"http://www.w3.org/2000/svg\" height=\"24px\"viewBox=\"0 0 24 24\"\n",
              "       width=\"24px\">\n",
              "    <path d=\"M0 0h24v24H0V0z\" fill=\"none\"/>\n",
              "    <path d=\"M18.56 5.44l.94 2.06.94-2.06 2.06-.94-2.06-.94-.94-2.06-.94 2.06-2.06.94zm-11 1L8.5 8.5l.94-2.06 2.06-.94-2.06-.94L8.5 2.5l-.94 2.06-2.06.94zm10 10l.94 2.06.94-2.06 2.06-.94-2.06-.94-.94-2.06-.94 2.06-2.06.94z\"/><path d=\"M17.41 7.96l-1.37-1.37c-.4-.4-.92-.59-1.43-.59-.52 0-1.04.2-1.43.59L10.3 9.45l-7.72 7.72c-.78.78-.78 2.05 0 2.83L4 21.41c.39.39.9.59 1.41.59.51 0 1.02-.2 1.41-.59l7.78-7.78 2.81-2.81c.8-.78.8-2.07 0-2.86zM5.41 20L4 18.59l7.72-7.72 1.47 1.35L5.41 20z\"/>\n",
              "  </svg>\n",
              "      </button>\n",
              "      \n",
              "  <style>\n",
              "    .colab-df-container {\n",
              "      display:flex;\n",
              "      flex-wrap:wrap;\n",
              "      gap: 12px;\n",
              "    }\n",
              "\n",
              "    .colab-df-convert {\n",
              "      background-color: #E8F0FE;\n",
              "      border: none;\n",
              "      border-radius: 50%;\n",
              "      cursor: pointer;\n",
              "      display: none;\n",
              "      fill: #1967D2;\n",
              "      height: 32px;\n",
              "      padding: 0 0 0 0;\n",
              "      width: 32px;\n",
              "    }\n",
              "\n",
              "    .colab-df-convert:hover {\n",
              "      background-color: #E2EBFA;\n",
              "      box-shadow: 0px 1px 2px rgba(60, 64, 67, 0.3), 0px 1px 3px 1px rgba(60, 64, 67, 0.15);\n",
              "      fill: #174EA6;\n",
              "    }\n",
              "\n",
              "    [theme=dark] .colab-df-convert {\n",
              "      background-color: #3B4455;\n",
              "      fill: #D2E3FC;\n",
              "    }\n",
              "\n",
              "    [theme=dark] .colab-df-convert:hover {\n",
              "      background-color: #434B5C;\n",
              "      box-shadow: 0px 1px 3px 1px rgba(0, 0, 0, 0.15);\n",
              "      filter: drop-shadow(0px 1px 2px rgba(0, 0, 0, 0.3));\n",
              "      fill: #FFFFFF;\n",
              "    }\n",
              "  </style>\n",
              "\n",
              "      <script>\n",
              "        const buttonEl =\n",
              "          document.querySelector('#df-e08dee44-47a1-49b2-9b90-fb98f0e73819 button.colab-df-convert');\n",
              "        buttonEl.style.display =\n",
              "          google.colab.kernel.accessAllowed ? 'block' : 'none';\n",
              "\n",
              "        async function convertToInteractive(key) {\n",
              "          const element = document.querySelector('#df-e08dee44-47a1-49b2-9b90-fb98f0e73819');\n",
              "          const dataTable =\n",
              "            await google.colab.kernel.invokeFunction('convertToInteractive',\n",
              "                                                     [key], {});\n",
              "          if (!dataTable) return;\n",
              "\n",
              "          const docLinkHtml = 'Like what you see? Visit the ' +\n",
              "            '<a target=\"_blank\" href=https://colab.research.google.com/notebooks/data_table.ipynb>data table notebook</a>'\n",
              "            + ' to learn more about interactive tables.';\n",
              "          element.innerHTML = '';\n",
              "          dataTable['output_type'] = 'display_data';\n",
              "          await google.colab.output.renderOutput(dataTable, element);\n",
              "          const docLink = document.createElement('div');\n",
              "          docLink.innerHTML = docLinkHtml;\n",
              "          element.appendChild(docLink);\n",
              "        }\n",
              "      </script>\n",
              "    </div>\n",
              "  </div>\n",
              "  "
            ]
          },
          "metadata": {},
          "execution_count": 21
        }
      ]
    },
    {
      "cell_type": "code",
      "source": [
        "X_train.shape"
      ],
      "metadata": {
        "colab": {
          "base_uri": "https://localhost:8080/"
        },
        "id": "AdwxnKO3xC0d",
        "outputId": "f8b4ba5f-adf2-4379-fc71-ca44463c75a1"
      },
      "execution_count": 22,
      "outputs": [
        {
          "output_type": "execute_result",
          "data": {
            "text/plain": [
              "torch.Size([18135, 140])"
            ]
          },
          "metadata": {},
          "execution_count": 22
        }
      ]
    },
    {
      "cell_type": "code",
      "source": [
        "y_train1 = y_train['context'].values"
      ],
      "metadata": {
        "id": "9EtD_jcgwwlQ"
      },
      "execution_count": 23,
      "outputs": []
    },
    {
      "cell_type": "code",
      "source": [
        "y_train1"
      ],
      "metadata": {
        "colab": {
          "base_uri": "https://localhost:8080/"
        },
        "id": "t_pkt02VJLzF",
        "outputId": "53e6439b-6699-4fca-e342-82ed473cd045"
      },
      "execution_count": 24,
      "outputs": [
        {
          "output_type": "execute_result",
          "data": {
            "text/plain": [
              "array([0, 0, 0, ..., 1, 0, 0])"
            ]
          },
          "metadata": {},
          "execution_count": 24
        }
      ]
    },
    {
      "cell_type": "code",
      "source": [
        "X_data = []\n",
        "for i in range(len(X_train)):\n",
        "  X_data.append([X_train[i], y_train1[i]])"
      ],
      "metadata": {
        "id": "-Dm5i6E0o5ir"
      },
      "execution_count": 25,
      "outputs": []
    },
    {
      "cell_type": "code",
      "source": [
        "len(y_train1)"
      ],
      "metadata": {
        "colab": {
          "base_uri": "https://localhost:8080/"
        },
        "id": "GHeAQ3Rc0hV9",
        "outputId": "f346b90b-bf49-4395-d4e6-eccc1db883f5"
      },
      "execution_count": 26,
      "outputs": [
        {
          "output_type": "execute_result",
          "data": {
            "text/plain": [
              "18135"
            ]
          },
          "metadata": {},
          "execution_count": 26
        }
      ]
    },
    {
      "cell_type": "code",
      "source": [
        "y_test1 = y_test['context'].values"
      ],
      "metadata": {
        "id": "M1b7t48RJSvz"
      },
      "execution_count": 27,
      "outputs": []
    },
    {
      "cell_type": "code",
      "source": [
        "X_data_test = []\n",
        "for i in range(len(X_test)):\n",
        "  X_data_test.append([X_test[i], y_test1[i]])"
      ],
      "metadata": {
        "id": "DD7bJrKKpWjn"
      },
      "execution_count": 28,
      "outputs": []
    },
    {
      "cell_type": "code",
      "source": [
        "batch_size = 32\n",
        "train_loader1 = torch.utils.data.DataLoader(X_data, batch_size=batch_size)"
      ],
      "metadata": {
        "id": "-UQ8oL7jESkp"
      },
      "execution_count": 29,
      "outputs": []
    },
    {
      "cell_type": "code",
      "source": [
        "import torch.nn as nn\n",
        "import torch.nn.functional as F\n",
        "\n",
        "class Net(nn.Module):\n",
        "    def __init__(self):\n",
        "        super(Net, self).__init__()\n",
        "        self.fc1 = nn.Linear(140, 768)\n",
        "        self.dropout = nn.Dropout(0.3)\n",
        "        # self.fc2 = nn.Linear(768, 2)\n",
        "        self.fc2 = nn.Linear(768, 24)\n",
        "\n",
        "\n",
        "    def forward(self, x):\n",
        "        x = self.fc1(x)\n",
        "        x = self.dropout(x)\n",
        "        x = self.fc2(x)\n",
        "        output = F.log_softmax(x, dim=1)\n",
        "        return output"
      ],
      "metadata": {
        "id": "Uhb79d0qD8Iw"
      },
      "execution_count": 30,
      "outputs": []
    },
    {
      "cell_type": "code",
      "source": [
        "model = Net()"
      ],
      "metadata": {
        "id": "sArDo-iavSuo"
      },
      "execution_count": 31,
      "outputs": []
    },
    {
      "cell_type": "code",
      "source": [
        "n_epochs = 20\n",
        "criterion_fnn = nn.CrossEntropyLoss()\n",
        "optimizer_fnn = torch.optim.Adam(model.parameters(), lr=5e-5)"
      ],
      "metadata": {
        "id": "3N5gPQA9vPW7"
      },
      "execution_count": 32,
      "outputs": []
    },
    {
      "cell_type": "code",
      "source": [
        "import numpy as np\n",
        "valid_loss_min = np.Inf \n",
        "\n",
        "for epoch in range(n_epochs):\n",
        "    train_loss = 0.0\n",
        "    model.train() \n",
        "    for data, target in train_loader1:\n",
        "        optimizer_fnn.zero_grad()\n",
        "        output = model(data.float())\n",
        "        # loss = criterion_fnn(output, torch.max(target, 1)[1])\n",
        "        loss = criterion_fnn(output, target.long())\n",
        "        loss.backward()\n",
        "        optimizer_fnn.step()\n",
        "        train_loss += loss.item()*data.size(0)\n",
        "        \n",
        "    model.eval()    \n",
        "    print('Epoch: {} \\tTraining Loss: {:.2f}'.format(epoch+1, train_loss/len(train_loader1.dataset)))"
      ],
      "metadata": {
        "colab": {
          "base_uri": "https://localhost:8080/"
        },
        "id": "-YuAF7b1vt6v",
        "outputId": "9d3f2064-f66c-412d-93fb-ee770b2504d6"
      },
      "execution_count": 33,
      "outputs": [
        {
          "output_type": "stream",
          "name": "stdout",
          "text": [
            "Epoch: 1 \tTraining Loss: 422.50\n",
            "Epoch: 2 \tTraining Loss: 306.40\n",
            "Epoch: 3 \tTraining Loss: 265.84\n",
            "Epoch: 4 \tTraining Loss: 217.88\n",
            "Epoch: 5 \tTraining Loss: 179.83\n",
            "Epoch: 6 \tTraining Loss: 140.90\n",
            "Epoch: 7 \tTraining Loss: 105.64\n",
            "Epoch: 8 \tTraining Loss: 73.96\n",
            "Epoch: 9 \tTraining Loss: 41.93\n",
            "Epoch: 10 \tTraining Loss: 16.66\n",
            "Epoch: 11 \tTraining Loss: 9.44\n",
            "Epoch: 12 \tTraining Loss: 8.67\n",
            "Epoch: 13 \tTraining Loss: 9.03\n",
            "Epoch: 14 \tTraining Loss: 8.51\n",
            "Epoch: 15 \tTraining Loss: 8.73\n",
            "Epoch: 16 \tTraining Loss: 8.77\n",
            "Epoch: 17 \tTraining Loss: 8.69\n",
            "Epoch: 18 \tTraining Loss: 8.70\n",
            "Epoch: 19 \tTraining Loss: 8.73\n",
            "Epoch: 20 \tTraining Loss: 8.16\n"
          ]
        }
      ]
    },
    {
      "cell_type": "code",
      "source": [
        "test_loader1 = torch.utils.data.DataLoader(X_data_test, batch_size=1)"
      ],
      "metadata": {
        "id": "PdhJgkte1lXV"
      },
      "execution_count": 34,
      "outputs": []
    },
    {
      "cell_type": "code",
      "source": [
        "label_context = []\n",
        "def q4b_fnn_accuracy(loader, model):\n",
        "  # num_correct = 0\n",
        "  # num_samples = 0\n",
        "  total_correct = 0\n",
        "  total_samples = 0\n",
        "  model.eval()\n",
        "  cnt = 0\n",
        "  with torch.no_grad():\n",
        "\n",
        "    # for x, y in loader:\n",
        "    for data, label in loader:\n",
        "      cnt += 1\n",
        "      # print(cnt)\n",
        "      scores = model(data.float())\n",
        "      _, predictions = scores.max(1)\n",
        "      label_context.append(predictions.item() )\n",
        "      pred_arr = (predictions == label)\n",
        "      for i in pred_arr:\n",
        "        total_correct += i\n",
        "    total_samples = len(X_data_test)\n",
        "    print(\"Accuracy is\" , float(total_correct)/float(total_samples) * 100)\n",
        "  model.train()\n",
        "q4b_fnn_accuracy(test_loader1, model)"
      ],
      "metadata": {
        "id": "BFbXpZfNztCV",
        "colab": {
          "base_uri": "https://localhost:8080/"
        },
        "outputId": "d56fd9d0-c470-4f49-c928-d8809b0af9ad"
      },
      "execution_count": 35,
      "outputs": [
        {
          "output_type": "stream",
          "name": "stdout",
          "text": [
            "Accuracy is 53.79355977062197\n"
          ]
        }
      ]
    },
    {
      "cell_type": "code",
      "source": [
        "# label_context"
      ],
      "metadata": {
        "id": "Yd1cNaC7Ib4R"
      },
      "execution_count": 36,
      "outputs": []
    },
    {
      "cell_type": "code",
      "source": [
        "len(label_context)"
      ],
      "metadata": {
        "colab": {
          "base_uri": "https://localhost:8080/"
        },
        "id": "bTxY7AegHo2q",
        "outputId": "20802d2f-f790-4aa8-a2ca-2409aac8e2f6"
      },
      "execution_count": 37,
      "outputs": [
        {
          "output_type": "execute_result",
          "data": {
            "text/plain": [
              "4534"
            ]
          },
          "metadata": {},
          "execution_count": 37
        }
      ]
    },
    {
      "cell_type": "code",
      "source": [
        "labels_df = pd.DataFrame({'context':label_context})"
      ],
      "metadata": {
        "id": "IEkEYvKpkUyW"
      },
      "execution_count": 38,
      "outputs": []
    },
    {
      "cell_type": "code",
      "source": [
        "labels_df"
      ],
      "metadata": {
        "colab": {
          "base_uri": "https://localhost:8080/",
          "height": 424
        },
        "id": "5Qg6-iesjq9c",
        "outputId": "1a6854c0-98b4-49e1-de0b-3d4c144db9e4"
      },
      "execution_count": 39,
      "outputs": [
        {
          "output_type": "execute_result",
          "data": {
            "text/plain": [
              "      context\n",
              "0           0\n",
              "1           0\n",
              "2           0\n",
              "3           1\n",
              "4           0\n",
              "...       ...\n",
              "4529        0\n",
              "4530        0\n",
              "4531        1\n",
              "4532        0\n",
              "4533        0\n",
              "\n",
              "[4534 rows x 1 columns]"
            ],
            "text/html": [
              "\n",
              "  <div id=\"df-7faa459d-117c-4a4a-894d-0cd91b051a05\">\n",
              "    <div class=\"colab-df-container\">\n",
              "      <div>\n",
              "<style scoped>\n",
              "    .dataframe tbody tr th:only-of-type {\n",
              "        vertical-align: middle;\n",
              "    }\n",
              "\n",
              "    .dataframe tbody tr th {\n",
              "        vertical-align: top;\n",
              "    }\n",
              "\n",
              "    .dataframe thead th {\n",
              "        text-align: right;\n",
              "    }\n",
              "</style>\n",
              "<table border=\"1\" class=\"dataframe\">\n",
              "  <thead>\n",
              "    <tr style=\"text-align: right;\">\n",
              "      <th></th>\n",
              "      <th>context</th>\n",
              "    </tr>\n",
              "  </thead>\n",
              "  <tbody>\n",
              "    <tr>\n",
              "      <th>0</th>\n",
              "      <td>0</td>\n",
              "    </tr>\n",
              "    <tr>\n",
              "      <th>1</th>\n",
              "      <td>0</td>\n",
              "    </tr>\n",
              "    <tr>\n",
              "      <th>2</th>\n",
              "      <td>0</td>\n",
              "    </tr>\n",
              "    <tr>\n",
              "      <th>3</th>\n",
              "      <td>1</td>\n",
              "    </tr>\n",
              "    <tr>\n",
              "      <th>4</th>\n",
              "      <td>0</td>\n",
              "    </tr>\n",
              "    <tr>\n",
              "      <th>...</th>\n",
              "      <td>...</td>\n",
              "    </tr>\n",
              "    <tr>\n",
              "      <th>4529</th>\n",
              "      <td>0</td>\n",
              "    </tr>\n",
              "    <tr>\n",
              "      <th>4530</th>\n",
              "      <td>0</td>\n",
              "    </tr>\n",
              "    <tr>\n",
              "      <th>4531</th>\n",
              "      <td>1</td>\n",
              "    </tr>\n",
              "    <tr>\n",
              "      <th>4532</th>\n",
              "      <td>0</td>\n",
              "    </tr>\n",
              "    <tr>\n",
              "      <th>4533</th>\n",
              "      <td>0</td>\n",
              "    </tr>\n",
              "  </tbody>\n",
              "</table>\n",
              "<p>4534 rows × 1 columns</p>\n",
              "</div>\n",
              "      <button class=\"colab-df-convert\" onclick=\"convertToInteractive('df-7faa459d-117c-4a4a-894d-0cd91b051a05')\"\n",
              "              title=\"Convert this dataframe to an interactive table.\"\n",
              "              style=\"display:none;\">\n",
              "        \n",
              "  <svg xmlns=\"http://www.w3.org/2000/svg\" height=\"24px\"viewBox=\"0 0 24 24\"\n",
              "       width=\"24px\">\n",
              "    <path d=\"M0 0h24v24H0V0z\" fill=\"none\"/>\n",
              "    <path d=\"M18.56 5.44l.94 2.06.94-2.06 2.06-.94-2.06-.94-.94-2.06-.94 2.06-2.06.94zm-11 1L8.5 8.5l.94-2.06 2.06-.94-2.06-.94L8.5 2.5l-.94 2.06-2.06.94zm10 10l.94 2.06.94-2.06 2.06-.94-2.06-.94-.94-2.06-.94 2.06-2.06.94z\"/><path d=\"M17.41 7.96l-1.37-1.37c-.4-.4-.92-.59-1.43-.59-.52 0-1.04.2-1.43.59L10.3 9.45l-7.72 7.72c-.78.78-.78 2.05 0 2.83L4 21.41c.39.39.9.59 1.41.59.51 0 1.02-.2 1.41-.59l7.78-7.78 2.81-2.81c.8-.78.8-2.07 0-2.86zM5.41 20L4 18.59l7.72-7.72 1.47 1.35L5.41 20z\"/>\n",
              "  </svg>\n",
              "      </button>\n",
              "      \n",
              "  <style>\n",
              "    .colab-df-container {\n",
              "      display:flex;\n",
              "      flex-wrap:wrap;\n",
              "      gap: 12px;\n",
              "    }\n",
              "\n",
              "    .colab-df-convert {\n",
              "      background-color: #E8F0FE;\n",
              "      border: none;\n",
              "      border-radius: 50%;\n",
              "      cursor: pointer;\n",
              "      display: none;\n",
              "      fill: #1967D2;\n",
              "      height: 32px;\n",
              "      padding: 0 0 0 0;\n",
              "      width: 32px;\n",
              "    }\n",
              "\n",
              "    .colab-df-convert:hover {\n",
              "      background-color: #E2EBFA;\n",
              "      box-shadow: 0px 1px 2px rgba(60, 64, 67, 0.3), 0px 1px 3px 1px rgba(60, 64, 67, 0.15);\n",
              "      fill: #174EA6;\n",
              "    }\n",
              "\n",
              "    [theme=dark] .colab-df-convert {\n",
              "      background-color: #3B4455;\n",
              "      fill: #D2E3FC;\n",
              "    }\n",
              "\n",
              "    [theme=dark] .colab-df-convert:hover {\n",
              "      background-color: #434B5C;\n",
              "      box-shadow: 0px 1px 3px 1px rgba(0, 0, 0, 0.15);\n",
              "      filter: drop-shadow(0px 1px 2px rgba(0, 0, 0, 0.3));\n",
              "      fill: #FFFFFF;\n",
              "    }\n",
              "  </style>\n",
              "\n",
              "      <script>\n",
              "        const buttonEl =\n",
              "          document.querySelector('#df-7faa459d-117c-4a4a-894d-0cd91b051a05 button.colab-df-convert');\n",
              "        buttonEl.style.display =\n",
              "          google.colab.kernel.accessAllowed ? 'block' : 'none';\n",
              "\n",
              "        async function convertToInteractive(key) {\n",
              "          const element = document.querySelector('#df-7faa459d-117c-4a4a-894d-0cd91b051a05');\n",
              "          const dataTable =\n",
              "            await google.colab.kernel.invokeFunction('convertToInteractive',\n",
              "                                                     [key], {});\n",
              "          if (!dataTable) return;\n",
              "\n",
              "          const docLinkHtml = 'Like what you see? Visit the ' +\n",
              "            '<a target=\"_blank\" href=https://colab.research.google.com/notebooks/data_table.ipynb>data table notebook</a>'\n",
              "            + ' to learn more about interactive tables.';\n",
              "          element.innerHTML = '';\n",
              "          dataTable['output_type'] = 'display_data';\n",
              "          await google.colab.output.renderOutput(dataTable, element);\n",
              "          const docLink = document.createElement('div');\n",
              "          docLink.innerHTML = docLinkHtml;\n",
              "          element.appendChild(docLink);\n",
              "        }\n",
              "      </script>\n",
              "    </div>\n",
              "  </div>\n",
              "  "
            ]
          },
          "metadata": {},
          "execution_count": 39
        }
      ]
    },
    {
      "cell_type": "code",
      "source": [
        "############################ to predict the datatype #########################"
      ],
      "metadata": {
        "id": "qmz6b_fkXyn3"
      },
      "execution_count": 40,
      "outputs": []
    },
    {
      "cell_type": "code",
      "source": [
        "# y_datatype = df.iloc[:, 5].values"
      ],
      "metadata": {
        "id": "YCViIZVNYsfq"
      },
      "execution_count": 41,
      "outputs": []
    },
    {
      "cell_type": "code",
      "source": [
        "# y_datatype"
      ],
      "metadata": {
        "id": "VaI-pvI9YvUE"
      },
      "execution_count": 42,
      "outputs": []
    },
    {
      "cell_type": "code",
      "source": [
        "# from sklearn.model_selection import train_test_split\n",
        "# X_train_dt, X_test_dt, y_train_dt, y_test_dt = train_test_split(input_ids, y_datatype, train_size=0.8)"
      ],
      "metadata": {
        "id": "oimwFOP-Y2XP"
      },
      "execution_count": 43,
      "outputs": []
    },
    {
      "cell_type": "code",
      "source": [
        "# y_train_dt"
      ],
      "metadata": {
        "id": "y0gZRLgEl6JG"
      },
      "execution_count": 44,
      "outputs": []
    },
    {
      "cell_type": "code",
      "source": [
        "# X_data_dt = []\n",
        "# for i in range(len(X_train_dt)):\n",
        "#   X_data_dt.append([X_train_dt[i], y_train_dt[i]])"
      ],
      "metadata": {
        "id": "itDeyGNQY_30"
      },
      "execution_count": 45,
      "outputs": []
    },
    {
      "cell_type": "code",
      "source": [
        "# X_data_test_dt = []\n",
        "# for i in range(len(X_test_dt)):\n",
        "#   X_data_test_dt.append([X_test_dt[i], y_test_dt[i]])"
      ],
      "metadata": {
        "id": "mXov32CnZHKw"
      },
      "execution_count": 46,
      "outputs": []
    },
    {
      "cell_type": "code",
      "source": [
        "y1_dt_train = y_train['datatype'].values"
      ],
      "metadata": {
        "id": "WnEfZtutJypa"
      },
      "execution_count": 47,
      "outputs": []
    },
    {
      "cell_type": "code",
      "source": [
        "y1_dt_test = y_test['datatype'].values"
      ],
      "metadata": {
        "id": "zDaA8ediJ4EK"
      },
      "execution_count": 48,
      "outputs": []
    },
    {
      "cell_type": "code",
      "source": [
        "X_data_dt = []\n",
        "for i in range(len(X_train)):\n",
        "  X_data_dt.append([X_train[i], y1_dt_train[i]])"
      ],
      "metadata": {
        "id": "pxJLvv1kGj5_"
      },
      "execution_count": 49,
      "outputs": []
    },
    {
      "cell_type": "code",
      "source": [
        "X_data_test_dt = []\n",
        "for i in range(len(X_test)):\n",
        "  X_data_test_dt.append([X_test[i], y1_dt_test[i]])"
      ],
      "metadata": {
        "id": "NdMPWPueGvxu"
      },
      "execution_count": 50,
      "outputs": []
    },
    {
      "cell_type": "markdown",
      "source": [],
      "metadata": {
        "id": "aQaagHUpG8kU"
      }
    },
    {
      "cell_type": "code",
      "source": [
        "# batch_size = 32\n",
        "batch_size = 64\n",
        "train_loader_dt = torch.utils.data.DataLoader(X_data_dt, batch_size=batch_size)"
      ],
      "metadata": {
        "id": "RKt4B1NFZTVS"
      },
      "execution_count": 51,
      "outputs": []
    },
    {
      "cell_type": "code",
      "source": [
        "import torch.nn as nn\n",
        "import torch.nn.functional as F\n",
        "\n",
        "class Net_dt(nn.Module):\n",
        "    def __init__(self):\n",
        "        super(Net_dt, self).__init__()\n",
        "        self.fc1 = nn.Linear(140, 768)\n",
        "        self.dropout = nn.Dropout(0.4)\n",
        "        self.fc2 = nn.Linear(768, 3)\n",
        "        # self.fc2 = nn.Linear(768, 24)\n",
        "\n",
        "\n",
        "    def forward(self, x):\n",
        "        x = self.fc1(x)\n",
        "        x = self.dropout(x)\n",
        "        x = self.fc2(x)\n",
        "        output = F.log_softmax(x, dim=1)\n",
        "        return output"
      ],
      "metadata": {
        "id": "3utAMI2ogR0z"
      },
      "execution_count": 52,
      "outputs": []
    },
    {
      "cell_type": "code",
      "source": [
        "model1 = Net_dt()\n",
        "n_epochs = 20\n",
        "criterion_fnn_dt = nn.CrossEntropyLoss()\n",
        "optimizer_fnn_dt = torch.optim.Adam(model1.parameters(), lr=3e-5)\n",
        "# optimizer_fnn_dt = torch.optim.Adam(model1.parameters(), lr=0.001)"
      ],
      "metadata": {
        "id": "tU8OatBmZYtn"
      },
      "execution_count": 53,
      "outputs": []
    },
    {
      "cell_type": "code",
      "source": [
        "import numpy as np\n",
        "valid_loss_min = np.Inf \n",
        "\n",
        "for epoch in range(n_epochs):\n",
        "    train_loss = 0.0\n",
        "    model1.train() \n",
        "    for data, target in train_loader_dt:\n",
        "        optimizer_fnn_dt.zero_grad()\n",
        "        output = model1(data.float())\n",
        "        loss_dt = criterion_fnn_dt(output, target.long())\n",
        "        loss_dt.backward()\n",
        "        optimizer_fnn_dt.step()\n",
        "        train_loss += loss_dt.item()*data.size(0)\n",
        "        \n",
        "    model1.eval()    \n",
        "    print('Epoch: {} \\tTraining Loss: {:.2f}'.format(epoch+1, train_loss/len(train_loader_dt.dataset)))"
      ],
      "metadata": {
        "colab": {
          "base_uri": "https://localhost:8080/"
        },
        "id": "ne2XjgxcZfbS",
        "outputId": "b8ab8f25-1c67-4c6e-bdb9-53952c3fefc9"
      },
      "execution_count": 54,
      "outputs": [
        {
          "output_type": "stream",
          "name": "stdout",
          "text": [
            "Epoch: 1 \tTraining Loss: 798.80\n",
            "Epoch: 2 \tTraining Loss: 633.30\n",
            "Epoch: 3 \tTraining Loss: 587.06\n",
            "Epoch: 4 \tTraining Loss: 548.76\n",
            "Epoch: 5 \tTraining Loss: 512.58\n",
            "Epoch: 6 \tTraining Loss: 475.93\n",
            "Epoch: 7 \tTraining Loss: 450.59\n",
            "Epoch: 8 \tTraining Loss: 419.55\n",
            "Epoch: 9 \tTraining Loss: 392.96\n",
            "Epoch: 10 \tTraining Loss: 364.38\n",
            "Epoch: 11 \tTraining Loss: 328.49\n",
            "Epoch: 12 \tTraining Loss: 297.67\n",
            "Epoch: 13 \tTraining Loss: 272.79\n",
            "Epoch: 14 \tTraining Loss: 248.08\n",
            "Epoch: 15 \tTraining Loss: 219.21\n",
            "Epoch: 16 \tTraining Loss: 195.89\n",
            "Epoch: 17 \tTraining Loss: 172.66\n",
            "Epoch: 18 \tTraining Loss: 146.66\n",
            "Epoch: 19 \tTraining Loss: 123.17\n",
            "Epoch: 20 \tTraining Loss: 97.04\n"
          ]
        }
      ]
    },
    {
      "cell_type": "code",
      "source": [
        "test_loader_dt = torch.utils.data.DataLoader(X_data_test_dt, batch_size=1)"
      ],
      "metadata": {
        "id": "QoUscRKcZ5jx"
      },
      "execution_count": 55,
      "outputs": []
    },
    {
      "cell_type": "code",
      "source": [
        "label_datatype = []\n",
        "def q4b_fnn_accuracy(loader, model):\n",
        "  total_correct = 0\n",
        "  total_samples = 0\n",
        "  model1.eval()\n",
        "  cnt = 0\n",
        "  with torch.no_grad():\n",
        "\n",
        "    # for x, y in loader:\n",
        "    for data, label in loader:\n",
        "      cnt += 1\n",
        "      scores = model(data.float())\n",
        "      _, predictions = scores.max(1)\n",
        "      label_datatype.append(predictions.item())\n",
        "      pred_arr = (predictions == label)\n",
        "      for i in pred_arr:\n",
        "        total_correct += i\n",
        "    total_samples = len(X_data_test_dt)\n",
        "    print(\"Accuracy is\" , float(total_correct)/float(total_samples) * 100)\n",
        "  model.train()\n",
        "q4b_fnn_accuracy(test_loader_dt, model1)"
      ],
      "metadata": {
        "colab": {
          "base_uri": "https://localhost:8080/"
        },
        "id": "GFegy17GZ_yX",
        "outputId": "81fb9314-d42b-40d3-d2be-90a8d7359d37"
      },
      "execution_count": 56,
      "outputs": [
        {
          "output_type": "stream",
          "name": "stdout",
          "text": [
            "Accuracy is 44.04499338332598\n"
          ]
        }
      ]
    },
    {
      "cell_type": "code",
      "source": [
        "labels_df['datatype'] = label_datatype"
      ],
      "metadata": {
        "id": "S8o-TWxzk8F8"
      },
      "execution_count": 57,
      "outputs": []
    },
    {
      "cell_type": "code",
      "source": [
        "##########################"
      ],
      "metadata": {
        "id": "jZYqsEf6hNd_"
      },
      "execution_count": 58,
      "outputs": []
    },
    {
      "cell_type": "code",
      "source": [
        "#For attitude\n",
        "# y_attitude = df.iloc[:, 6].values"
      ],
      "metadata": {
        "id": "pQx6pALSglBy"
      },
      "execution_count": 59,
      "outputs": []
    },
    {
      "cell_type": "code",
      "source": [
        "# from sklearn.model_selection import train_test_split\n",
        "# X_train_at, X_test_at, y_train_at, y_test_at = train_test_split(input_ids, y_attitude, train_size=0.8)"
      ],
      "metadata": {
        "id": "he5BJ7migtbs"
      },
      "execution_count": 60,
      "outputs": []
    },
    {
      "cell_type": "code",
      "source": [
        "# X_data_at = []\n",
        "# for i in range(len(X_train_at)):\n",
        "#   X_data_at.append([X_train_at[i], y_train_at[i]])"
      ],
      "metadata": {
        "id": "8gEJoiIog8qQ"
      },
      "execution_count": 61,
      "outputs": []
    },
    {
      "cell_type": "code",
      "source": [
        "# X_data_test_at = []\n",
        "# for i in range(len(X_test_at)):\n",
        "#   X_data_test_at.append([X_test_at[i], y_test_at[i]])"
      ],
      "metadata": {
        "id": "blawYMPvg_nh"
      },
      "execution_count": 62,
      "outputs": []
    },
    {
      "cell_type": "code",
      "source": [
        "y_at_train = y_train['attitude'].values"
      ],
      "metadata": {
        "id": "j4twbrqoKB-n"
      },
      "execution_count": 63,
      "outputs": []
    },
    {
      "cell_type": "code",
      "source": [
        "y_at_test = y_test['attitude'].values"
      ],
      "metadata": {
        "id": "ZdPM4T2rKHen"
      },
      "execution_count": 64,
      "outputs": []
    },
    {
      "cell_type": "code",
      "source": [
        "X_data_at = []\n",
        "for i in range(len(X_train)):\n",
        "  X_data_at.append([X_train[i], y_at_train[i]])"
      ],
      "metadata": {
        "id": "YBjuaKjkG7UQ"
      },
      "execution_count": 65,
      "outputs": []
    },
    {
      "cell_type": "code",
      "source": [
        "X_data_test_at = []\n",
        "for i in range(len(X_test)):\n",
        "  X_data_test_at.append([X_test[i], y_at_test[i]])"
      ],
      "metadata": {
        "id": "QB59MdMFG-jU"
      },
      "execution_count": 66,
      "outputs": []
    },
    {
      "cell_type": "code",
      "source": [
        "# batch_size = 32\n",
        "batch_size = 128\n",
        "train_loader_at = torch.utils.data.DataLoader(X_data_at, batch_size=batch_size)"
      ],
      "metadata": {
        "id": "BI4FUxtlhDtB"
      },
      "execution_count": 67,
      "outputs": []
    },
    {
      "cell_type": "code",
      "source": [
        "import torch.nn as nn\n",
        "import torch.nn.functional as F\n",
        "\n",
        "class Net_at(nn.Module):\n",
        "    def __init__(self):\n",
        "        super(Net_at, self).__init__()\n",
        "        self.fc1 = nn.Linear(140, 768)\n",
        "        # self.dropout = nn.Dropout(0.3)\n",
        "        self.dropout = nn.Dropout(0.5)\n",
        "        self.fc2 = nn.Linear(768, 4)\n",
        "\n",
        "    def forward(self, x):\n",
        "        x = self.fc1(x)\n",
        "        x = self.dropout(x)\n",
        "        x = self.fc2(x)\n",
        "        output = F.log_softmax(x, dim=1)\n",
        "        return output"
      ],
      "metadata": {
        "id": "UNM2mjxChFxY"
      },
      "execution_count": 68,
      "outputs": []
    },
    {
      "cell_type": "code",
      "source": [
        "model2 = Net_at()\n",
        "# n_epochs = 20\n",
        "n_epochs = 40\n",
        "criterion_fnn_at = nn.CrossEntropyLoss()\n",
        "optimizer_fnn_at = torch.optim.Adam(model2.parameters(), lr=1e-5)\n",
        "# optimizer_fnn_at = torch.optim.Adam(model2.parameters(), lr=5e-5)"
      ],
      "metadata": {
        "id": "S6LULI5bhIqj"
      },
      "execution_count": 69,
      "outputs": []
    },
    {
      "cell_type": "code",
      "source": [
        "import numpy as np\n",
        "valid_loss_min = np.Inf \n",
        "\n",
        "for epoch in range(n_epochs):\n",
        "    train_loss = 0.0\n",
        "    model2.train() \n",
        "    for data, target in train_loader_at:\n",
        "        optimizer_fnn_at.zero_grad()\n",
        "        output = model2(data.float())\n",
        "        loss_at = criterion_fnn_at(output, target.long())\n",
        "        loss_at.backward()\n",
        "        optimizer_fnn_at.step()\n",
        "        train_loss += loss_at.item()*data.size(0)\n",
        "        \n",
        "    model2.eval()    \n",
        "    print('Epoch: {} \\tTraining Loss: {:.2f}'.format(epoch+1, train_loss/len(train_loader_at.dataset)))"
      ],
      "metadata": {
        "colab": {
          "base_uri": "https://localhost:8080/"
        },
        "id": "Fk-XlgizhO6J",
        "outputId": "7fcde25b-0104-4c51-bc12-06d3dda9ecd0"
      },
      "execution_count": 70,
      "outputs": [
        {
          "output_type": "stream",
          "name": "stdout",
          "text": [
            "Epoch: 1 \tTraining Loss: 1185.05\n",
            "Epoch: 2 \tTraining Loss: 980.37\n",
            "Epoch: 3 \tTraining Loss: 922.07\n",
            "Epoch: 4 \tTraining Loss: 876.92\n",
            "Epoch: 5 \tTraining Loss: 852.34\n",
            "Epoch: 6 \tTraining Loss: 816.06\n",
            "Epoch: 7 \tTraining Loss: 807.04\n",
            "Epoch: 8 \tTraining Loss: 785.75\n",
            "Epoch: 9 \tTraining Loss: 768.30\n",
            "Epoch: 10 \tTraining Loss: 760.79\n",
            "Epoch: 11 \tTraining Loss: 726.36\n",
            "Epoch: 12 \tTraining Loss: 723.79\n",
            "Epoch: 13 \tTraining Loss: 710.44\n",
            "Epoch: 14 \tTraining Loss: 703.81\n",
            "Epoch: 15 \tTraining Loss: 698.43\n",
            "Epoch: 16 \tTraining Loss: 678.48\n",
            "Epoch: 17 \tTraining Loss: 671.08\n",
            "Epoch: 18 \tTraining Loss: 652.87\n",
            "Epoch: 19 \tTraining Loss: 637.10\n",
            "Epoch: 20 \tTraining Loss: 626.67\n",
            "Epoch: 21 \tTraining Loss: 616.73\n",
            "Epoch: 22 \tTraining Loss: 620.01\n",
            "Epoch: 23 \tTraining Loss: 594.55\n",
            "Epoch: 24 \tTraining Loss: 598.05\n",
            "Epoch: 25 \tTraining Loss: 580.01\n",
            "Epoch: 26 \tTraining Loss: 562.85\n",
            "Epoch: 27 \tTraining Loss: 562.85\n",
            "Epoch: 28 \tTraining Loss: 556.24\n",
            "Epoch: 29 \tTraining Loss: 545.20\n",
            "Epoch: 30 \tTraining Loss: 534.80\n",
            "Epoch: 31 \tTraining Loss: 523.66\n",
            "Epoch: 32 \tTraining Loss: 511.58\n",
            "Epoch: 33 \tTraining Loss: 504.42\n",
            "Epoch: 34 \tTraining Loss: 493.44\n",
            "Epoch: 35 \tTraining Loss: 484.10\n",
            "Epoch: 36 \tTraining Loss: 471.62\n",
            "Epoch: 37 \tTraining Loss: 464.47\n",
            "Epoch: 38 \tTraining Loss: 455.65\n",
            "Epoch: 39 \tTraining Loss: 445.25\n",
            "Epoch: 40 \tTraining Loss: 442.24\n"
          ]
        }
      ]
    },
    {
      "cell_type": "code",
      "source": [
        "test_loader_at = torch.utils.data.DataLoader(X_data_test_at, batch_size=1)"
      ],
      "metadata": {
        "id": "FPawOSeUhRkm"
      },
      "execution_count": 71,
      "outputs": []
    },
    {
      "cell_type": "code",
      "source": [
        "label_attitude = []\n",
        "def q4b_fnn_accuracy(loader, model):\n",
        "  total_correct = 0\n",
        "  total_samples = 0\n",
        "  model1.eval()\n",
        "  cnt = 0\n",
        "  with torch.no_grad():\n",
        "\n",
        "    # for x, y in loader:\n",
        "    for data, label in loader:\n",
        "      cnt += 1\n",
        "      scores = model(data.float())\n",
        "      _, predictions = scores.max(1)\n",
        "      label_attitude.append(predictions.item())\n",
        "      pred_arr = (predictions == label)\n",
        "      for i in pred_arr:\n",
        "        total_correct += i\n",
        "    total_samples = len(X_data_test_at)\n",
        "    print(\"Accuracy is\" , float(total_correct)/float(total_samples) * 100)\n",
        "  model.train()\n",
        "q4b_fnn_accuracy(test_loader_at, model2)"
      ],
      "metadata": {
        "colab": {
          "base_uri": "https://localhost:8080/"
        },
        "id": "SfxmQOyuhWcG",
        "outputId": "e16980a9-51ca-43f6-a15f-b2007a78b108"
      },
      "execution_count": 72,
      "outputs": [
        {
          "output_type": "stream",
          "name": "stdout",
          "text": [
            "Accuracy is 43.91265990295545\n"
          ]
        }
      ]
    },
    {
      "cell_type": "code",
      "source": [
        "labels_df['attitude'] = label_attitude"
      ],
      "metadata": {
        "id": "_3-L7pWdlWYi"
      },
      "execution_count": 73,
      "outputs": []
    },
    {
      "cell_type": "code",
      "source": [
        "labels_df"
      ],
      "metadata": {
        "colab": {
          "base_uri": "https://localhost:8080/",
          "height": 424
        },
        "id": "iIxBxj_-lbTE",
        "outputId": "3b92abcb-8f4b-440f-a4e2-616c8b98e082"
      },
      "execution_count": 74,
      "outputs": [
        {
          "output_type": "execute_result",
          "data": {
            "text/plain": [
              "      context  datatype  attitude\n",
              "0           0         0         2\n",
              "1           0         0         0\n",
              "2           0         0         3\n",
              "3           1         0         0\n",
              "4           0         0         0\n",
              "...       ...       ...       ...\n",
              "4529        0         0         0\n",
              "4530        0         0         0\n",
              "4531        1         2         2\n",
              "4532        0         2         0\n",
              "4533        0         2         0\n",
              "\n",
              "[4534 rows x 3 columns]"
            ],
            "text/html": [
              "\n",
              "  <div id=\"df-b950b10d-ed48-40d8-af97-c2f2f031ee16\">\n",
              "    <div class=\"colab-df-container\">\n",
              "      <div>\n",
              "<style scoped>\n",
              "    .dataframe tbody tr th:only-of-type {\n",
              "        vertical-align: middle;\n",
              "    }\n",
              "\n",
              "    .dataframe tbody tr th {\n",
              "        vertical-align: top;\n",
              "    }\n",
              "\n",
              "    .dataframe thead th {\n",
              "        text-align: right;\n",
              "    }\n",
              "</style>\n",
              "<table border=\"1\" class=\"dataframe\">\n",
              "  <thead>\n",
              "    <tr style=\"text-align: right;\">\n",
              "      <th></th>\n",
              "      <th>context</th>\n",
              "      <th>datatype</th>\n",
              "      <th>attitude</th>\n",
              "    </tr>\n",
              "  </thead>\n",
              "  <tbody>\n",
              "    <tr>\n",
              "      <th>0</th>\n",
              "      <td>0</td>\n",
              "      <td>0</td>\n",
              "      <td>2</td>\n",
              "    </tr>\n",
              "    <tr>\n",
              "      <th>1</th>\n",
              "      <td>0</td>\n",
              "      <td>0</td>\n",
              "      <td>0</td>\n",
              "    </tr>\n",
              "    <tr>\n",
              "      <th>2</th>\n",
              "      <td>0</td>\n",
              "      <td>0</td>\n",
              "      <td>3</td>\n",
              "    </tr>\n",
              "    <tr>\n",
              "      <th>3</th>\n",
              "      <td>1</td>\n",
              "      <td>0</td>\n",
              "      <td>0</td>\n",
              "    </tr>\n",
              "    <tr>\n",
              "      <th>4</th>\n",
              "      <td>0</td>\n",
              "      <td>0</td>\n",
              "      <td>0</td>\n",
              "    </tr>\n",
              "    <tr>\n",
              "      <th>...</th>\n",
              "      <td>...</td>\n",
              "      <td>...</td>\n",
              "      <td>...</td>\n",
              "    </tr>\n",
              "    <tr>\n",
              "      <th>4529</th>\n",
              "      <td>0</td>\n",
              "      <td>0</td>\n",
              "      <td>0</td>\n",
              "    </tr>\n",
              "    <tr>\n",
              "      <th>4530</th>\n",
              "      <td>0</td>\n",
              "      <td>0</td>\n",
              "      <td>0</td>\n",
              "    </tr>\n",
              "    <tr>\n",
              "      <th>4531</th>\n",
              "      <td>1</td>\n",
              "      <td>2</td>\n",
              "      <td>2</td>\n",
              "    </tr>\n",
              "    <tr>\n",
              "      <th>4532</th>\n",
              "      <td>0</td>\n",
              "      <td>2</td>\n",
              "      <td>0</td>\n",
              "    </tr>\n",
              "    <tr>\n",
              "      <th>4533</th>\n",
              "      <td>0</td>\n",
              "      <td>2</td>\n",
              "      <td>0</td>\n",
              "    </tr>\n",
              "  </tbody>\n",
              "</table>\n",
              "<p>4534 rows × 3 columns</p>\n",
              "</div>\n",
              "      <button class=\"colab-df-convert\" onclick=\"convertToInteractive('df-b950b10d-ed48-40d8-af97-c2f2f031ee16')\"\n",
              "              title=\"Convert this dataframe to an interactive table.\"\n",
              "              style=\"display:none;\">\n",
              "        \n",
              "  <svg xmlns=\"http://www.w3.org/2000/svg\" height=\"24px\"viewBox=\"0 0 24 24\"\n",
              "       width=\"24px\">\n",
              "    <path d=\"M0 0h24v24H0V0z\" fill=\"none\"/>\n",
              "    <path d=\"M18.56 5.44l.94 2.06.94-2.06 2.06-.94-2.06-.94-.94-2.06-.94 2.06-2.06.94zm-11 1L8.5 8.5l.94-2.06 2.06-.94-2.06-.94L8.5 2.5l-.94 2.06-2.06.94zm10 10l.94 2.06.94-2.06 2.06-.94-2.06-.94-.94-2.06-.94 2.06-2.06.94z\"/><path d=\"M17.41 7.96l-1.37-1.37c-.4-.4-.92-.59-1.43-.59-.52 0-1.04.2-1.43.59L10.3 9.45l-7.72 7.72c-.78.78-.78 2.05 0 2.83L4 21.41c.39.39.9.59 1.41.59.51 0 1.02-.2 1.41-.59l7.78-7.78 2.81-2.81c.8-.78.8-2.07 0-2.86zM5.41 20L4 18.59l7.72-7.72 1.47 1.35L5.41 20z\"/>\n",
              "  </svg>\n",
              "      </button>\n",
              "      \n",
              "  <style>\n",
              "    .colab-df-container {\n",
              "      display:flex;\n",
              "      flex-wrap:wrap;\n",
              "      gap: 12px;\n",
              "    }\n",
              "\n",
              "    .colab-df-convert {\n",
              "      background-color: #E8F0FE;\n",
              "      border: none;\n",
              "      border-radius: 50%;\n",
              "      cursor: pointer;\n",
              "      display: none;\n",
              "      fill: #1967D2;\n",
              "      height: 32px;\n",
              "      padding: 0 0 0 0;\n",
              "      width: 32px;\n",
              "    }\n",
              "\n",
              "    .colab-df-convert:hover {\n",
              "      background-color: #E2EBFA;\n",
              "      box-shadow: 0px 1px 2px rgba(60, 64, 67, 0.3), 0px 1px 3px 1px rgba(60, 64, 67, 0.15);\n",
              "      fill: #174EA6;\n",
              "    }\n",
              "\n",
              "    [theme=dark] .colab-df-convert {\n",
              "      background-color: #3B4455;\n",
              "      fill: #D2E3FC;\n",
              "    }\n",
              "\n",
              "    [theme=dark] .colab-df-convert:hover {\n",
              "      background-color: #434B5C;\n",
              "      box-shadow: 0px 1px 3px 1px rgba(0, 0, 0, 0.15);\n",
              "      filter: drop-shadow(0px 1px 2px rgba(0, 0, 0, 0.3));\n",
              "      fill: #FFFFFF;\n",
              "    }\n",
              "  </style>\n",
              "\n",
              "      <script>\n",
              "        const buttonEl =\n",
              "          document.querySelector('#df-b950b10d-ed48-40d8-af97-c2f2f031ee16 button.colab-df-convert');\n",
              "        buttonEl.style.display =\n",
              "          google.colab.kernel.accessAllowed ? 'block' : 'none';\n",
              "\n",
              "        async function convertToInteractive(key) {\n",
              "          const element = document.querySelector('#df-b950b10d-ed48-40d8-af97-c2f2f031ee16');\n",
              "          const dataTable =\n",
              "            await google.colab.kernel.invokeFunction('convertToInteractive',\n",
              "                                                     [key], {});\n",
              "          if (!dataTable) return;\n",
              "\n",
              "          const docLinkHtml = 'Like what you see? Visit the ' +\n",
              "            '<a target=\"_blank\" href=https://colab.research.google.com/notebooks/data_table.ipynb>data table notebook</a>'\n",
              "            + ' to learn more about interactive tables.';\n",
              "          element.innerHTML = '';\n",
              "          dataTable['output_type'] = 'display_data';\n",
              "          await google.colab.output.renderOutput(dataTable, element);\n",
              "          const docLink = document.createElement('div');\n",
              "          docLink.innerHTML = docLinkHtml;\n",
              "          element.appendChild(docLink);\n",
              "        }\n",
              "      </script>\n",
              "    </div>\n",
              "  </div>\n",
              "  "
            ]
          },
          "metadata": {},
          "execution_count": 74
        }
      ]
    },
    {
      "cell_type": "code",
      "source": [],
      "metadata": {
        "id": "IKAi7GjsLZ6B"
      },
      "execution_count": 74,
      "outputs": []
    }
  ]
}